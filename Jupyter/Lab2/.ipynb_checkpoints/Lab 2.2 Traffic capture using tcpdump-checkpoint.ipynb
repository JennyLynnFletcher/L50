{
 "cells": [
  {
   "cell_type": "markdown",
   "metadata": {},
   "source": [
    "In this experiment you will generate traffic using OSNT and capture it with tcpdump.  <img src=\"alt_setup2.2.jpg\">\n",
    "#Setup:\n",
    "\n",
    "First time use:   \n",
    "-- mkdir <crsid> (Machine B)   \n",
    "-- git clone https://github.com/cucl-srg/L50 (Machine B)   \n",
    "-- wget https://www.cl.cam.ac.uk/research/srg/netos/projects/netfpga/bitfiles/OSNT-SUME-live/osnt_20170129.bit -P /root/<crsid>/L50/setup (Machine B)   \n",
    "-- bash /root/<crsid>/L50/setup/load_osnt_bitfile.sh <crsid> (Machine B)   \n",
    "-- reboot the machine (also required after Machine B was powered down)   \n",
    "\n",
    "\n",
    "Repeated use:   \n",
    "-- bash /root/<crsid>/L50/setup/load_osnt_bitfile.sh <crsid> (Machine B)   \n",
    "-- dagload (Machine A)  \n",
    "-- bash /root/<crsid>/L50/setup/mkdir2.sh <crsid> (Machine A)   \n",
    "-- eval ssh-agent -s (Machine A)   \n",
    "-- ssh-add (Machine A)  \n",
    " \n",
    "\n",
    "-- Connect nf0 (B, tx) to slf0 (A, rx) and slf1 (A, rx) via the tap.  \n",
    "<img src=\"tap2.2_connect.jpg\">"
   ]
  },
  {
   "cell_type": "markdown",
   "metadata": {},
   "source": [
    "In order to listen on an interface using tcpdump, it must be up -- `ifconfig <interface> up`.\n",
    "\n",
    "###### Usage : \n",
    "\n",
    "`tcpdump -i <interface> -w <output file name>` \n",
    "This runs until it is terminated. Furthermore, the capture file will not be recorded correctly unless it is killed.  \n",
    "  \n",
    "Eg Scripting a capture in Python\n",
    "```\n",
    "cmd=shlex.split('tcpdump -i eth0 -w bla.pcap')\n",
    "p = Popen(cmd)\n",
    "sleep(2) # ensure that process is ready to capture\n",
    "# send traffic #\n",
    "sleep(2) # ensure that process has finished capturing\n",
    "p.terminate()\n",
    "```"
   ]
  },
  {
   "cell_type": "code",
   "execution_count": 3,
   "metadata": {},
   "outputs": [],
   "source": [
    "crsid='jlf60'\n",
    "%run /root/$crsid/L50/Jupyter/useful/useful.py\n",
    "%run /root/$crsid/L50/Jupyter/useful/useful2.2.py\n",
    "%matplotlib inline\n",
    "machB_ip = '128.232.82.64' # UPDATE THIS"
   ]
  },
  {
   "cell_type": "markdown",
   "metadata": {},
   "source": [
    "The function `send` will be used throughout this Notebook:  \n",
    "Traffic will be generated from NetFPGA (Machine B) using OSNT. Capture it on the NIC (Machine A) using tcpdump and check that these are correctly saved to L50Lab2/2.2.  "
   ]
  },
  {
   "cell_type": "code",
   "execution_count": 4,
   "metadata": {},
   "outputs": [],
   "source": [
    "def send(exp,num,two=False,ipg=0):\n",
    "\n",
    "    # start capture on slf0 to L50Lab2/2.2/'+exp+'_0.erf\n",
    "    cap_cmd0=shlex.split('tcpdump -i slf0 -w /root/'+crsid+'/L50Lab2/2.2/'+exp+'_0.pcap')\n",
    "    p0 = Popen(cap_cmd0)\n",
    "    if (two):\n",
    "        # start capture on slf1 to L50Lab2/2.2/'+exp+'_1.erf\n",
    "        cap_cmd1=shlex.split('tcpdump -i slf1 -w /root/'+crsid+'/L50Lab2/2.2/'+exp+'_1.pcap')\n",
    "        p1 = Popen(cap_cmd1)\n",
    "    sleep(2)\n",
    "    \n",
    "    ssh = ssh_connect(machB_ip)\n",
    "    ssh_cmd('cd /root/OSNT-SUME-live/projects/osnt/sw/host/app/cli && python osnt-tool-cmd.py '\n",
    "            '-ifp0 /root/'+crsid+'/L50/pcap_files/512.cap -rpn0 '+str(num)+' -ipg0 '+str(ipg)+' -run'\n",
    "            ,ssh) # generate traffic\n",
    "    ssh.close()\n",
    "    sleep(10) # ensure that traffic has finished sending\n",
    "    \n",
    "    # end capture on slf0\n",
    "    p0.terminate()\n",
    "    local_cmd(\"tshark -t e -r /root/\"+crsid+\"/L50Lab2/2.2/\"+exp+\"_0.pcap | awk '{print $2}' > /root/\"+crsid+\"/L50Lab2/2.2/\"+exp+\"_0.txt\")\n",
    "    if (two):\n",
    "        # end capture on slf1\n",
    "        p1.terminate()\n",
    "        local_cmd(\"tshark -t e -r /root/\"+crsid+\"/L50Lab2/2.2/\"+exp+\"_1.pcap | awk '{print $2}' > /root/\"+crsid+\"/L50Lab2/2.2/\"+exp+\"_1.txt\")"
   ]
  },
  {
   "cell_type": "markdown",
   "metadata": {},
   "source": [
    "## Experiment a"
   ]
  },
  {
   "cell_type": "markdown",
   "metadata": {},
   "source": [
    "Send 1000 packets, size 512B. Check that the tool receives them. What is the precision of the measurement?"
   ]
  },
  {
   "cell_type": "code",
   "execution_count": 9,
   "metadata": {
    "scrolled": true
   },
   "outputs": [],
   "source": [
    "%%capture\n",
    "send('exp2a',1000,ipg=42560)"
   ]
  },
  {
   "cell_type": "code",
   "execution_count": 10,
   "metadata": {},
   "outputs": [
    {
     "name": "stdout",
     "output_type": "stream",
     "text": [
      "Packets received: 1000\n",
      "\n",
      "1634648646.284569\n",
      "1634648646.284579\n",
      "1634648646.284593\n",
      "1634648646.284702\n",
      "1634648646.284710\n",
      "1634648646.284721\n",
      "1634648646.284827\n",
      "1634648646.284834\n",
      "1634648646.284849\n",
      "1634648646.284955\n",
      "...\n"
     ]
    }
   ],
   "source": [
    "times = gettimes('exp2a_0',crsid)\n",
    "print \"Packets received: \" + str(len(times)) + \"\\n\"\n",
    "for i in range(10):\n",
    "    print times[i][:-1]\n",
    "print \"...\""
   ]
  },
  {
   "cell_type": "markdown",
   "metadata": {},
   "source": [
    "## Experiment b"
   ]
  },
  {
   "cell_type": "markdown",
   "metadata": {},
   "source": [
    "Use the tap to send 100000 packets, size 512B, nf0 to slf0 and slf1. What is the difference between the ports?"
   ]
  },
  {
   "cell_type": "code",
   "execution_count": 20,
   "metadata": {},
   "outputs": [],
   "source": [
    "%%capture\n",
    "send('exp2b',100000, two=True,ipg=42560)"
   ]
  },
  {
   "cell_type": "markdown",
   "metadata": {},
   "source": [
    "The function `cmp_ports`  plots a histogram of (slf0 TS - slf1 TS)."
   ]
  },
  {
   "cell_type": "code",
   "execution_count": 21,
   "metadata": {
    "scrolled": true
   },
   "outputs": [
    {
     "data": {
      "image/png": "[encoded data removed]",
      "text/plain": [
       "<Figure size 432x288 with 1 Axes>"
      ]
     },
     "metadata": {
      "needs_background": "light"
     },
     "output_type": "display_data"
    }
   ],
   "source": [
    "def cmp_ports(exp):\n",
    "    diff = getdiff(exp,crsid)\n",
    "    minn = int(min(diff) / 10.0) * 10\n",
    "    maxx = int(max(diff) / 10.0) * 10\n",
    "    n, bins, patches = plt.hist(diff, abs(maxx-minn)/2, (minn,maxx),log=True)\n",
    "    plt.xlabel(\"slf0 TS - slf1 TS (microseconds)\")\n",
    "    plt.ylabel(\"number of packets\")\n",
    "    plt.show()\n",
    "cmp_ports('exp2b')"
   ]
  },
  {
   "cell_type": "markdown",
   "metadata": {},
   "source": [
    "## Experiment c"
   ]
  },
  {
   "cell_type": "markdown",
   "metadata": {},
   "source": [
    "Swap the transceivers and fibres, and repeat Experiment 2."
   ]
  },
  {
   "cell_type": "code",
   "execution_count": 22,
   "metadata": {},
   "outputs": [],
   "source": [
    "%%capture\n",
    "send('exp2c',100000, two=True,ipg=42560)"
   ]
  },
  {
   "cell_type": "code",
   "execution_count": 23,
   "metadata": {},
   "outputs": [
    {
     "data": {
      "image/png": "[encoded data removed]",
      "text/plain": [
       "<Figure size 432x288 with 1 Axes>"
      ]
     },
     "metadata": {
      "needs_background": "light"
     },
     "output_type": "display_data"
    }
   ],
   "source": [
    "cmp_ports('exp2c')"
   ]
  },
  {
   "cell_type": "markdown",
   "metadata": {
    "collapsed": true
   },
   "source": [
    "## Experiment d"
   ]
  },
  {
   "cell_type": "markdown",
   "metadata": {},
   "source": [
    "Send 10000 packets, size 512B, as fast as possible.  Does the tool receive them?"
   ]
  },
  {
   "cell_type": "code",
   "execution_count": 24,
   "metadata": {},
   "outputs": [],
   "source": [
    "%%capture\n",
    "send('exp2d',10000)"
   ]
  },
  {
   "cell_type": "code",
   "execution_count": 25,
   "metadata": {
    "scrolled": false
   },
   "outputs": [
    {
     "name": "stdout",
     "output_type": "stream",
     "text": [
      "Packets received: 2290\n",
      "\n"
     ]
    }
   ],
   "source": [
    "times = gettimes('exp2d_0',crsid)\n",
    "print \"Packets received: \" + str(len(times)) + \"\\n\""
   ]
  },
  {
   "cell_type": "markdown",
   "metadata": {
    "collapsed": true
   },
   "source": [
    "## Experiment e"
   ]
  },
  {
   "cell_type": "markdown",
   "metadata": {},
   "source": [
    "In this experiment you will ping from NIC (Machine A) to NIC (Machine B). You will capture the requests and replies on both the DAG card (Machine A) and the NIC (Machine A) using tcpdump.  <img src=\"alt_setup2e.jpg\">\n",
    "###### Setup:   \n",
    "-- `rmmod ixgbe && modprobe ixgbe allow_unsupported_sfp=1` (Machine B)      \n",
    "-- `dagload` (Machine A)    \n",
    "-- `ifconfig slf0 192.168.0.3` (Machine A)   \n",
    "-- `ifconfig intl0 192.168.0.4` (Machine B)   \n",
    "-- Connect the tap as shown below. <img src=\"tap2e.jpg\"/>"
   ]
  },
  {
   "cell_type": "markdown",
   "metadata": {},
   "source": [
    "ping is used to test the reachability of a host on an IP network. The source sends an ICMP Echo Request and the destination sends an ICMP Echo Reply."
   ]
  },
  {
   "cell_type": "markdown",
   "metadata": {},
   "source": [
    "Use ping to generate 10000 RTT measurements (one at a time), and measure the RTT using DAG and tcpdump. What is the distribution? The accuracy?  \n",
    "This script will capture traffic using both DAG and tcpdump."
   ]
  },
  {
   "cell_type": "code",
   "execution_count": 30,
   "metadata": {},
   "outputs": [],
   "source": [
    "%%capture\n",
    "# start DAG and tcpdump capture\n",
    "cmd1=shlex.split('dagsnap -d0 -o /root/'+crsid+'/L50Lab2/2.2/exp2e_dag.erf')\n",
    "p1 = Popen(cmd1)\n",
    "cmd2=shlex.split(\"tcpdump -i slf0 -w /root/\"+crsid+\"/L50Lab2/2.2/exp2e_tcpdump.pcap 'icmp'\")\n",
    "p2 = Popen(cmd2)\n",
    "sleep(2)\n",
    "\n",
    "!ping 192.168.0.4 -i 0.005 -c 10000 -q > /root/$crsid/L50Lab2/2.2/ping.txt\n",
    "sleep(2)\n",
    "\n",
    "# end DAG and tcpdump capture\n",
    "p1.kill()\n",
    "p2.terminate()\n",
    "!tshark -r /root/$crsid/L50Lab2/2.2/exp2e_tcpdump.pcap -V  | grep \"previous captured\"> \\\n",
    "/root/$crsid/L50Lab2/2.2/exp2e_tcpdump.txt\n",
    "!dagconvert -i /root/$crsid/L50Lab2/2.2/exp2e_dag.erf -o /root/$crsid/L50Lab2/2.2/exp2e_dag_filtered.erf -b \"icmp\"\n",
    "!tshark -r /root/$crsid/L50Lab2/2.2/exp2e_dag_filtered.erf -V  | grep \"previous captured\"> \\\n",
    "/root/$crsid/L50Lab2/2.2/exp2e_dag_filtered.txt"
   ]
  },
  {
   "cell_type": "code",
   "execution_count": 31,
   "metadata": {},
   "outputs": [
    {
     "name": "stdout",
     "output_type": "stream",
     "text": [
      "jlf60\n",
      "0.000063800\n",
      "0.000046020\n",
      "0.000074080\n",
      "0.000074428\n",
      "0.000075724\n",
      "0.000073620\n",
      "0.000060228\n",
      "0.000104528\n",
      "0.000086044\n"
     ]
    }
   ],
   "source": [
    "rtt_dag = getrtt(\"exp2e_dag_filtered.txt\",crsid)"
   ]
  },
  {
   "cell_type": "markdown",
   "metadata": {},
   "source": [
    "The function `rtt_graph` takes a list of RTTs and plots a histogram."
   ]
  },
  {
   "cell_type": "code",
   "execution_count": 32,
   "metadata": {},
   "outputs": [
    {
     "data": {
      "image/png": "[encoded data removed]",
      "text/plain": [
       "<Figure size 432x288 with 1 Axes>"
      ]
     },
     "metadata": {
      "needs_background": "light"
     },
     "output_type": "display_data"
    }
   ],
   "source": [
    "def rtt_graph(rtt):\n",
    "    minn = int(floor(min(rtt) / 2.0)) * 2\n",
    "    maxx = int(ceil(max(rtt) / 2.0)) * 2\n",
    "    n, bins, patches = plt.hist(rtt, abs(maxx-minn)/2, (minn,maxx),log=True)\n",
    "    plt.ylabel(\"Number of packets\")\n",
    "    plt.xlabel(\"RTT (us)\")\n",
    "    plt.show()\n",
    "rtt_graph(rtt_dag)"
   ]
  },
  {
   "cell_type": "code",
   "execution_count": 33,
   "metadata": {},
   "outputs": [
    {
     "name": "stdout",
     "output_type": "stream",
     "text": [
      "jlf60\n",
      "0.000118000\n",
      "0.000058000\n",
      "0.000146000\n",
      "0.000132000\n",
      "0.000105000\n",
      "0.000103000\n",
      "0.000073000\n",
      "0.000167000\n",
      "0.000113000\n"
     ]
    }
   ],
   "source": [
    "rtt_tdump = getrtt(\"exp2e_tcpdump.txt\",crsid)"
   ]
  },
  {
   "cell_type": "code",
   "execution_count": 34,
   "metadata": {},
   "outputs": [
    {
     "data": {
      "image/png": "[encoded data removed]",
      "text/plain": [
       "<Figure size 432x288 with 1 Axes>"
      ]
     },
     "metadata": {
      "needs_background": "light"
     },
     "output_type": "display_data"
    }
   ],
   "source": [
    "rtt_graph(rtt_tdump)"
   ]
  },
  {
   "cell_type": "code",
   "execution_count": null,
   "metadata": {},
   "outputs": [],
   "source": []
  }
 ],
 "metadata": {
  "kernelspec": {
   "display_name": "Python 2",
   "language": "python",
   "name": "python2"
  },
  "language_info": {
   "codemirror_mode": {
    "name": "ipython",
    "version": 2
   },
   "file_extension": ".py",
   "mimetype": "text/x-python",
   "name": "python",
   "nbconvert_exporter": "python",
   "pygments_lexer": "ipython2",
   "version": "2.7.12"
  }
 },
 "nbformat": 4,
 "nbformat_minor": 2
}
