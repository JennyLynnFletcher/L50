{
 "cells": [
  {
   "cell_type": "markdown",
   "metadata": {},
   "source": [
    "This is the third part of the first lab.\n",
    "\n",
    "The setup remains the same as in the previous parts, and the following is included only in case this part is not conducted immendately after the second part.  \n",
    "\n",
    "\n",
    "###### Setup:  \n",
    "-- Insert transceiver in intl0 (B).    \n",
    "-- `rmmod ixgbe && modprobe ixgbe allow_unsupported_sfp=1` (Machine B)   \n",
    "-- `ifconfig intl0 192.168.0.2` (Machine B)  \n",
    "-- `ifconfig slf0 192.168.0.1` (Machine A)  \n",
    "-- `ssh-add` (Machine A) #if it fails, run first: eval `ssh-agent -s`  \n",
    "-- `mkdir /root/<crsid>` (Machine A, replace <crsid> with your crsid) \n",
    "  \n",
    "-- `cd /root/<crsid>` Machine A)  \n",
    "-- `git clone http://github.com/cucl-srg/L50` (Machine A)  \n",
    "-- `/root/L50/setup/mkdir1.sh <crsid>`. (Machine A)   \n",
    "-- Connect slf0 (A) to intl0 (B)  \n",
    "<img src=\"alt_setup1.jpg\">  "
   ]
  },
  {
   "cell_type": "code",
   "execution_count": 54,
   "metadata": {},
   "outputs": [],
   "source": [
    "crsid='jlf60' #your crsid\n",
    "%run /root/$crsid/L50/Jupyter/useful/useful.py\n",
    "%run /root/$crsid/L50/Jupyter/useful/useful1.py\n",
    "%matplotlib inline\n",
    "machB_ip = '128.232.82.64'\n",
    "machA_ip = '128.232.82.63'\n",
    "machB_ip_local = '192.168.0.2'\n",
    "machA_ip_local = '192.168.0.1'"
   ]
  },
  {
   "cell_type": "markdown",
   "metadata": {},
   "source": [
    "# 3. iperf"
   ]
  },
  {
   "cell_type": "markdown",
   "metadata": {},
   "source": [
    "iperf is used to test the maximum network throughput that a computer can handle. The DuT acts as an iperf server and listens for connections. A second computer connects to the server and sends datagrams.  \n",
    "  \n",
    "In bidirectional testing, both computers act as both servers (receiving) and clients (sending).  \n",
    "  \n",
    "###### Usage of iperf: \n",
    "    \n",
    "Server:  \n",
    "* TCP       \n",
    "`iperf -s -B <server address>`  \n",
    "* UDP      \n",
    "`iperf -s -B <server address>` -u   \n",
    "   \n",
    "Client:  \n",
    "* TCP     \n",
    "`iperf -c <server address> [Opt: -i <interval>] [Opt: -t <time>] [Opt: -f <format>] [Opt: -d] [Opt: -w <TCP window size>]`  \n",
    "interval = how often to report bandwidth in seconds. Default is no periodic reports.  \n",
    "time = length of test in seconds. Default value is 10.    \n",
    "format = 'k' for Kbits/sec, 'm' for Mbits/sec, 'g' for Gbits/sec. Default is adaptive.    \n",
    "-d = bidirectional  \n",
    "TCP window size -> eg. `-w 20KB`\n",
    "    \n",
    "      \n",
    "* UDP    \n",
    "`iperf -c <server address> [Opt: -i <interval>] [Opt: -t <time>] [Opt: -f <format>] [Opt: -d] [Opt: -b <bandwidth>]`   \n",
    "bandwidth -> eg. `-b 20m` (Mbits/sec).  \n",
    "\n",
    "NB. By default, iperf restricts bandwidth for UDP clients to a maximum of 1 Mbit/sec. There is no restriction for TCP clients.   "
   ]
  },
  {
   "cell_type": "markdown",
   "metadata": {},
   "source": [
    "### Experiment 9"
   ]
  },
  {
   "cell_type": "markdown",
   "metadata": {},
   "source": [
    "Run one way iperf, from A to B, 10 sec long. Plot the bandwidth for each time interval (1 sec)."
   ]
  },
  {
   "cell_type": "markdown",
   "metadata": {},
   "source": [
    "<font color='red'>TODO:</font> Fill in `server_cmd`, the command to start the server. Fill in `client_cmd`, the command to connect to the server, 10 seconds long, interval 1 second, format Gbits/sec."
   ]
  },
  {
   "cell_type": "code",
   "execution_count": 80,
   "metadata": {},
   "outputs": [],
   "source": [
    "server_cmd = 'iperf -s -B '+machB_ip_local\n",
    "ssh = ssh_connect(machB_ip)\n",
    "start_new_thread(ssh_cmd,(server_cmd,ssh))\n",
    "\n",
    "for i in range(5):\n",
    "    sleep(1)\n",
    "    client_cmd ='iperf -c '+machB_ip_local+' -i 1 -t 10 -f g'\n",
    "    local_cmd(client_cmd+'| grep -e \"bits/sec\" -m 10 > /root/'+crsid+'/L50Lab1/9/exp9_' + str(i))\n",
    "\n",
    "ssh_cmd('pkill iperf', ssh)\n",
    "ssh.close()"
   ]
  },
  {
   "cell_type": "code",
   "execution_count": 81,
   "metadata": {},
   "outputs": [
    {
     "data": {
      "image/png": "[encoded data removed]",
      "text/plain": [
       "<Figure size 432x288 with 1 Axes>"
      ]
     },
     "metadata": {
      "needs_background": "light"
     },
     "output_type": "display_data"
    }
   ],
   "source": [
    "bws = data_iperf('9/exp9',crsid)\n",
    "ys, yerr = graph_error(bws)\n",
    "plt.errorbar(np.arange(0.5,10.0,1.0),ys,yerr=yerr,linestyle=\"none\")\n",
    "ys.append(ys[-1])\n",
    "plt.step(np.arange(0,11,1), ys ,where=\"post\")\n",
    "\n",
    "plt.xlabel(\"Time (s)\")\n",
    "plt.ylabel(\"Bandwidth (Gbit/s)\")\n",
    "plt.show()"
   ]
  },
  {
   "cell_type": "markdown",
   "metadata": {},
   "source": [
    "### Experiment 10"
   ]
  },
  {
   "cell_type": "markdown",
   "metadata": {},
   "source": [
    "Run 2 way iperf, 10 sec long. Plot the bandwidth for each time interval (1 sec)."
   ]
  },
  {
   "cell_type": "markdown",
   "metadata": {},
   "source": [
    "<font color='red'>TODO:</font> Fill in `server_cmd`, the command to start the server. Fill in `client_cmd`, the command to connect to the server, bidirectional, 10 seconds long, interval 1 second, format Gbits/sec."
   ]
  },
  {
   "cell_type": "code",
   "execution_count": 78,
   "metadata": {},
   "outputs": [],
   "source": [
    "server_cmd = 'iperf -s -B '+machB_ip_local\n",
    "ssh = ssh_connect(machB_ip)\n",
    "start_new_thread(ssh_cmd,(server_cmd,ssh))\n",
    "\n",
    "for i in range(5):\n",
    "    sleep(1)\n",
    "    client_cmd = 'iperf -c '+machB_ip_local+' -i 1 -t 10 -f g -d'\n",
    "    local_cmd(client_cmd+' | grep -e \"bits/sec\" -e \"with\" -m 22 > /root/'+crsid+'/L50Lab1/10/exp10_' + str(i))\n",
    "    #print(local_cmd(client_cmd))\n",
    "\n",
    "ssh_cmd('pkill iperf', ssh)\n",
    "ssh.close()"
   ]
  },
  {
   "cell_type": "code",
   "execution_count": 79,
   "metadata": {},
   "outputs": [
    {
     "data": {
      "image/png": "[encoded data removed]",
      "text/plain": [
       "<Figure size 432x288 with 1 Axes>"
      ]
     },
     "metadata": {
      "needs_background": "light"
     },
     "output_type": "display_data"
    }
   ],
   "source": [
    "sbw,cbw = data10(crsid)\n",
    "ys,yerr = graph_error(sbw)\n",
    "plt.errorbar(np.arange(0.4,10.0,1.0),ys,yerr=yerr,linestyle=\"none\",color=\"red\")\n",
    "ys.append(ys[-1])\n",
    "plt.step(np.arange(0,11,1), ys ,where=\"post\",color=\"red\",label=\"server\")\n",
    "\n",
    "ys2,yerr2 = graph_error(cbw)\n",
    "plt.errorbar(np.arange(0.6,10.0,1.0),ys2,yerr=yerr2,linestyle=\"none\",color=\"blue\")\n",
    "ys2.append(ys2[-1])\n",
    "plt.step(np.arange(0,11,1), ys2 ,where=\"post\",color=\"blue\",label=\"client\")\n",
    "    \n",
    "plt.xlabel(\"Time (s)\")\n",
    "plt.ylabel(\"Bandwidth (Mbit/s)\")\n",
    "plt.legend(loc='center left', bbox_to_anchor=(1, 0.5))\n",
    "plt.show()"
   ]
  },
  {
   "cell_type": "markdown",
   "metadata": {},
   "source": [
    "### Experiment 11"
   ]
  },
  {
   "cell_type": "markdown",
   "metadata": {},
   "source": [
    "Run one way iperf, from A to B, 3 sec long, with varying window size. Plot the bandwidth for each window size."
   ]
  },
  {
   "cell_type": "markdown",
   "metadata": {},
   "source": [
    "<font color='red'>TODO:</font> Fill in `server_cmd`, the command to start the server. Fill in `client_cmd`, the command to connect to the server, 3 seconds long, format Kbits/sec, for each window size in KB."
   ]
  },
  {
   "cell_type": "code",
   "execution_count": 76,
   "metadata": {},
   "outputs": [],
   "source": [
    "server_cmd = 'iperf -s -B '+machB_ip_local\n",
    "ssh = ssh_connect(machB_ip)\n",
    "start_new_thread(ssh_cmd,(server_cmd,ssh))\n",
    "\n",
    "windows = [1,50,100,150,200,250]\n",
    "for w in windows:\n",
    "    for i in range(5):\n",
    "        sleep(1)\n",
    "        client_cmd = 'iperf -c '+machB_ip_local+' -t 3 -f k -w '+str(w)+'KB'\n",
    "        local_cmd(client_cmd+' | grep -e \"window\" -e \"bits/sec\" > /root/'+crsid+'/L50Lab1/11/exp11_'+str(w)+'_'+str(i))\n",
    "        #print(local_cmd(client_cmd))\n",
    "        \n",
    "ssh_cmd('pkill iperf', ssh)\n",
    "ssh.close()"
   ]
  },
  {
   "cell_type": "code",
   "execution_count": 77,
   "metadata": {},
   "outputs": [
    {
     "data": {
      "image/png": "[encoded data removed]",
      "text/plain": [
       "<Figure size 432x288 with 1 Axes>"
      ]
     },
     "metadata": {
      "needs_background": "light"
     },
     "output_type": "display_data"
    }
   ],
   "source": [
    "winds, bws = data11(windows,crsid)\n",
    "ys,yerr =graph_error(bws)\n",
    "plt.errorbar(winds,ys,yerr=yerr)\n",
    "plt.ylabel(\"Bandwidth (Gbits/sec)\")\n",
    "plt.xlabel(\"Window size (KB)\")\n",
    "plt.show()"
   ]
  },
  {
   "cell_type": "markdown",
   "metadata": {},
   "source": [
    "### Experiment 12"
   ]
  },
  {
   "cell_type": "markdown",
   "metadata": {},
   "source": [
    "Run one way iperf using UDP, from A to B, 3 sec long, with varying bandwidth. Plot the percentage of packets dropped for each bandwidth."
   ]
  },
  {
   "cell_type": "markdown",
   "metadata": {},
   "source": [
    "<font color='red'>TODO:</font> Fill in `server_cmd`, the command to start the UDP server. Fill in `client_cmd`, the command to connect to the UDP server, 3 seconds long, format Mbits/sec, for each bandwidth in Mbits/sec."
   ]
  },
  {
   "cell_type": "code",
   "execution_count": 56,
   "metadata": {},
   "outputs": [
    {
     "name": "stdout",
     "output_type": "stream",
     "text": [
      "------------------------------------------------------------\n",
      "Client connecting to 192.168.0.2, UDP port 5001\n",
      "Sending 1470 byte datagrams\n",
      "UDP buffer size: 0.20 MByte (default)\n",
      "------------------------------------------------------------\n",
      "[  3] local 192.168.0.1 port 52187 connected with 192.168.0.2 port 5001\n",
      "[ ID] Interval       Transfer     Bandwidth\n",
      "[  3]  0.0- 1.0 sec  1.19 MBytes  10.0 Mbits/sec\n",
      "[  3]  1.0- 2.0 sec  1.19 MBytes  10.0 Mbits/sec\n",
      "[  3]  2.0- 3.0 sec  1.19 MBytes  10.0 Mbits/sec\n",
      "[  3]  0.0- 3.0 sec  3.58 MBytes  10.0 Mbits/sec\n",
      "[  3] Sent 2552 datagrams\n",
      "[  3] Server Report:\n",
      "[  3]  0.0- 6.0 sec  3.58 MBytes  4.97 Mbits/sec   0.006 ms    0/ 2552 (0%)\n",
      "\n",
      "------------------------------------------------------------\n",
      "Client connecting to 192.168.0.2, UDP port 5001\n",
      "Sending 1470 byte datagrams\n",
      "UDP buffer size: 0.20 MByte (default)\n",
      "------------------------------------------------------------\n",
      "[  3] local 192.168.0.1 port 33043 connected with 192.168.0.2 port 5001\n",
      "[ ID] Interval       Transfer     Bandwidth\n",
      "[  3]  0.0- 1.0 sec  1.19 MBytes  10.0 Mbits/sec\n",
      "[  3]  1.0- 2.0 sec  1.19 MBytes  10.0 Mbits/sec\n",
      "[  3]  2.0- 3.0 sec  1.19 MBytes  10.0 Mbits/sec\n",
      "[  3]  0.0- 3.0 sec  3.58 MBytes  10.0 Mbits/sec\n",
      "[  3] Sent 2552 datagrams\n",
      "[  3] Server Report:\n",
      "[  3]  0.0- 6.0 sec  3.58 MBytes  4.97 Mbits/sec   0.006 ms    0/ 2551 (0%)\n",
      "[  3]  0.0- 6.0 sec  1 datagrams received out-of-order\n",
      "\n",
      "------------------------------------------------------------\n",
      "Client connecting to 192.168.0.2, UDP port 5001\n",
      "Sending 1470 byte datagrams\n",
      "UDP buffer size: 0.20 MByte (default)\n",
      "------------------------------------------------------------\n",
      "[  3] local 192.168.0.1 port 55693 connected with 192.168.0.2 port 5001\n",
      "[ ID] Interval       Transfer     Bandwidth\n",
      "[  3]  0.0- 1.0 sec  1.19 MBytes  10.0 Mbits/sec\n",
      "[  3]  1.0- 2.0 sec  1.19 MBytes  10.0 Mbits/sec\n",
      "[  3]  2.0- 3.0 sec  1.19 MBytes  10.0 Mbits/sec\n",
      "[  3]  0.0- 3.0 sec  3.58 MBytes  10.0 Mbits/sec\n",
      "[  3] Sent 2552 datagrams\n",
      "[  3] Server Report:\n",
      "[  3]  0.0- 6.0 sec  3.58 MBytes  4.97 Mbits/sec   0.002 ms    0/ 2551 (0%)\n",
      "[  3]  0.0- 6.0 sec  1 datagrams received out-of-order\n",
      "\n",
      "------------------------------------------------------------\n",
      "Client connecting to 192.168.0.2, UDP port 5001\n",
      "Sending 1470 byte datagrams\n",
      "UDP buffer size: 0.20 MByte (default)\n",
      "------------------------------------------------------------\n",
      "[  3] local 192.168.0.1 port 36098 connected with 192.168.0.2 port 5001\n",
      "[ ID] Interval       Transfer     Bandwidth\n",
      "[  3]  0.0- 1.0 sec  1.19 MBytes  10.0 Mbits/sec\n",
      "[  3]  1.0- 2.0 sec  1.19 MBytes  10.0 Mbits/sec\n",
      "[  3]  2.0- 3.0 sec  1.19 MBytes  10.0 Mbits/sec\n",
      "[  3]  0.0- 3.0 sec  3.58 MBytes  10.0 Mbits/sec\n",
      "[  3] Sent 2552 datagrams\n",
      "[  3] Server Report:\n",
      "[  3]  0.0- 6.0 sec  3.58 MBytes  4.97 Mbits/sec   0.004 ms    0/ 2551 (0%)\n",
      "[  3]  0.0- 6.0 sec  1 datagrams received out-of-order\n",
      "\n",
      "------------------------------------------------------------\n",
      "Client connecting to 192.168.0.2, UDP port 5001\n",
      "Sending 1470 byte datagrams\n",
      "UDP buffer size: 0.20 MByte (default)\n",
      "------------------------------------------------------------\n",
      "[  3] local 192.168.0.1 port 33241 connected with 192.168.0.2 port 5001\n",
      "[ ID] Interval       Transfer     Bandwidth\n",
      "[  3]  0.0- 1.0 sec  1.19 MBytes  10.0 Mbits/sec\n",
      "[  3]  1.0- 2.0 sec  1.19 MBytes  10.0 Mbits/sec\n",
      "[  3]  2.0- 3.0 sec  1.19 MBytes  10.0 Mbits/sec\n",
      "[  3]  0.0- 3.0 sec  3.58 MBytes  10.0 Mbits/sec\n",
      "[  3] Sent 2552 datagrams\n",
      "[  3] Server Report:\n",
      "[  3]  0.0- 6.0 sec  3.58 MBytes  4.97 Mbits/sec   0.005 ms    0/ 2551 (0%)\n",
      "[  3]  0.0- 6.0 sec  1 datagrams received out-of-order\n",
      "\n",
      "------------------------------------------------------------\n",
      "Client connecting to 192.168.0.2, UDP port 5001\n",
      "Sending 1470 byte datagrams\n",
      "UDP buffer size: 0.20 MByte (default)\n",
      "------------------------------------------------------------\n",
      "[  3] local 192.168.0.1 port 58700 connected with 192.168.0.2 port 5001\n",
      "[ ID] Interval       Transfer     Bandwidth\n",
      "[  3]  0.0- 1.0 sec  12.0 MBytes   101 Mbits/sec\n",
      "[  3]  1.0- 2.0 sec  12.0 MBytes   101 Mbits/sec\n",
      "[  3]  2.0- 3.0 sec  12.0 MBytes   101 Mbits/sec\n",
      "[  3]  0.0- 3.0 sec  35.9 MBytes   101 Mbits/sec\n",
      "[  3] Sent 25641 datagrams\n",
      "[  3] Server Report:\n",
      "[  3]  0.0- 6.0 sec  35.9 MBytes  50.0 Mbits/sec   0.007 ms    0/25640 (0%)\n",
      "[  3]  0.0- 6.0 sec  1 datagrams received out-of-order\n",
      "\n",
      "------------------------------------------------------------\n",
      "Client connecting to 192.168.0.2, UDP port 5001\n",
      "Sending 1470 byte datagrams\n",
      "UDP buffer size: 0.20 MByte (default)\n",
      "------------------------------------------------------------\n",
      "[  3] local 192.168.0.1 port 36297 connected with 192.168.0.2 port 5001\n",
      "[ ID] Interval       Transfer     Bandwidth\n",
      "[  3]  0.0- 1.0 sec  12.0 MBytes   101 Mbits/sec\n",
      "[  3]  1.0- 2.0 sec  12.0 MBytes   101 Mbits/sec\n",
      "[  3]  2.0- 3.0 sec  12.0 MBytes   101 Mbits/sec\n",
      "[  3]  0.0- 3.0 sec  35.9 MBytes   101 Mbits/sec\n",
      "[  3] Sent 25642 datagrams\n",
      "[  3] Server Report:\n",
      "[  3]  0.0- 6.0 sec  35.9 MBytes  50.0 Mbits/sec   0.013 ms    0/25641 (0%)\n",
      "[  3]  0.0- 6.0 sec  1 datagrams received out-of-order\n",
      "\n",
      "------------------------------------------------------------\n",
      "Client connecting to 192.168.0.2, UDP port 5001\n",
      "Sending 1470 byte datagrams\n",
      "UDP buffer size: 0.20 MByte (default)\n",
      "------------------------------------------------------------\n",
      "[  3] local 192.168.0.1 port 40247 connected with 192.168.0.2 port 5001\n",
      "[ ID] Interval       Transfer     Bandwidth\n",
      "[  3]  0.0- 1.0 sec  12.0 MBytes   101 Mbits/sec\n",
      "[  3]  1.0- 2.0 sec  12.0 MBytes   101 Mbits/sec\n",
      "[  3]  2.0- 3.0 sec  12.0 MBytes   101 Mbits/sec\n",
      "[  3]  0.0- 3.0 sec  35.9 MBytes   101 Mbits/sec\n",
      "[  3] Sent 25642 datagrams\n",
      "[  3] Server Report:\n",
      "[  3]  0.0- 6.0 sec  35.9 MBytes  50.0 Mbits/sec   0.007 ms    0/25641 (0%)\n",
      "[  3]  0.0- 6.0 sec  1 datagrams received out-of-order\n",
      "\n",
      "------------------------------------------------------------\n",
      "Client connecting to 192.168.0.2, UDP port 5001\n",
      "Sending 1470 byte datagrams\n",
      "UDP buffer size: 0.20 MByte (default)\n",
      "------------------------------------------------------------\n",
      "[  3] local 192.168.0.1 port 44995 connected with 192.168.0.2 port 5001\n",
      "[ ID] Interval       Transfer     Bandwidth\n",
      "[  3]  0.0- 1.0 sec  12.0 MBytes   101 Mbits/sec\n",
      "[  3]  1.0- 2.0 sec  12.0 MBytes   101 Mbits/sec\n",
      "[  3]  2.0- 3.0 sec  12.0 MBytes   101 Mbits/sec\n",
      "[  3]  0.0- 3.0 sec  35.9 MBytes   101 Mbits/sec\n",
      "[  3] Sent 25641 datagrams\n",
      "[  3] Server Report:\n",
      "[  3]  0.0- 6.0 sec  35.9 MBytes  50.0 Mbits/sec   0.006 ms    0/25640 (0%)\n",
      "[  3]  0.0- 6.0 sec  1 datagrams received out-of-order\n",
      "\n",
      "------------------------------------------------------------\n",
      "Client connecting to 192.168.0.2, UDP port 5001\n",
      "Sending 1470 byte datagrams\n",
      "UDP buffer size: 0.20 MByte (default)\n",
      "------------------------------------------------------------\n",
      "[  3] local 192.168.0.1 port 53154 connected with 192.168.0.2 port 5001\n",
      "[ ID] Interval       Transfer     Bandwidth\n",
      "[  3]  0.0- 1.0 sec  12.0 MBytes   101 Mbits/sec\n",
      "[  3]  1.0- 2.0 sec  12.0 MBytes   101 Mbits/sec\n",
      "[  3]  2.0- 3.0 sec  12.0 MBytes   101 Mbits/sec\n",
      "[  3]  0.0- 3.0 sec  35.9 MBytes   101 Mbits/sec\n",
      "[  3] Sent 25642 datagrams\n",
      "[  3] Server Report:\n",
      "[  3]  0.0- 6.0 sec  35.9 MBytes  50.0 Mbits/sec   0.005 ms    0/25641 (0%)\n",
      "[  3]  0.0- 6.0 sec  1 datagrams received out-of-order\n",
      "\n",
      "------------------------------------------------------------\n",
      "Client connecting to 192.168.0.2, UDP port 5001\n",
      "Sending 1470 byte datagrams\n",
      "UDP buffer size: 0.20 MByte (default)\n",
      "------------------------------------------------------------\n",
      "[  3] local 192.168.0.1 port 47585 connected with 192.168.0.2 port 5001\n",
      "[ ID] Interval       Transfer     Bandwidth\n",
      "[  3]  0.0- 1.0 sec  96.1 MBytes   806 Mbits/sec\n",
      "[  3]  1.0- 2.0 sec  96.2 MBytes   807 Mbits/sec\n",
      "[  3]  2.0- 3.0 sec  96.2 MBytes   807 Mbits/sec\n",
      "[  3]  0.0- 3.0 sec   289 MBytes   807 Mbits/sec\n",
      "[  3] Sent 205852 datagrams\n",
      "[  3] Server Report:\n",
      "[  3]  0.0- 6.0 sec   276 MBytes   384 Mbits/sec   0.002 ms 8883/205851 (4.3%)\n",
      "[  3]  0.0- 6.0 sec  1 datagrams received out-of-order\n",
      "\n",
      "------------------------------------------------------------\n",
      "Client connecting to 192.168.0.2, UDP port 5001\n",
      "Sending 1470 byte datagrams\n",
      "UDP buffer size: 0.20 MByte (default)\n",
      "------------------------------------------------------------\n",
      "[  3] local 192.168.0.1 port 52645 connected with 192.168.0.2 port 5001\n",
      "[ ID] Interval       Transfer     Bandwidth\n",
      "[  3]  0.0- 1.0 sec  95.9 MBytes   804 Mbits/sec\n",
      "[  3]  1.0- 2.0 sec  95.1 MBytes   798 Mbits/sec\n",
      "[  3]  0.0- 3.0 sec   287 MBytes   803 Mbits/sec\n",
      "[  3] Sent 204792 datagrams\n",
      "[  3] Server Report:\n",
      "[  3]  0.0- 6.0 sec   273 MBytes   379 Mbits/sec   0.003 ms 10236/204791 (5%)\n",
      "[  3]  0.0- 6.0 sec  1 datagrams received out-of-order\n",
      "\n"
     ]
    },
    {
     "name": "stdout",
     "output_type": "stream",
     "text": [
      "------------------------------------------------------------\n",
      "Client connecting to 192.168.0.2, UDP port 5001\n",
      "Sending 1470 byte datagrams\n",
      "UDP buffer size: 0.20 MByte (default)\n",
      "------------------------------------------------------------\n",
      "[  3] local 192.168.0.1 port 42064 connected with 192.168.0.2 port 5001\n",
      "[ ID] Interval       Transfer     Bandwidth\n",
      "[  3]  0.0- 1.0 sec  97.3 MBytes   816 Mbits/sec\n",
      "[  3]  1.0- 2.0 sec  96.6 MBytes   810 Mbits/sec\n",
      "[  3]  2.0- 3.0 sec  96.9 MBytes   813 Mbits/sec\n",
      "[  3]  0.0- 3.0 sec   291 MBytes   813 Mbits/sec\n",
      "[  3] Sent 207415 datagrams\n",
      "[  3] Server Report:\n",
      "[  3]  0.0- 6.0 sec   271 MBytes   377 Mbits/sec   0.001 ms 13830/207414 (6.7%)\n",
      "[  3]  0.0- 6.0 sec  1 datagrams received out-of-order\n",
      "\n",
      "------------------------------------------------------------\n",
      "Client connecting to 192.168.0.2, UDP port 5001\n",
      "Sending 1470 byte datagrams\n",
      "UDP buffer size: 0.20 MByte (default)\n",
      "------------------------------------------------------------\n",
      "[  3] local 192.168.0.1 port 42573 connected with 192.168.0.2 port 5001\n",
      "[ ID] Interval       Transfer     Bandwidth\n",
      "[  3]  0.0- 1.0 sec  96.0 MBytes   805 Mbits/sec\n",
      "[  3]  1.0- 2.0 sec  95.8 MBytes   804 Mbits/sec\n",
      "[  3]  2.0- 3.0 sec  95.9 MBytes   804 Mbits/sec\n",
      "[  3]  0.0- 3.0 sec   288 MBytes   804 Mbits/sec\n",
      "[  3] Sent 205216 datagrams\n",
      "[  3] Server Report:\n",
      "[  3]  0.0- 6.0 sec   273 MBytes   380 Mbits/sec   0.003 ms 10443/205215 (5.1%)\n",
      "[  3]  0.0- 6.0 sec  1 datagrams received out-of-order\n",
      "\n",
      "------------------------------------------------------------\n",
      "Client connecting to 192.168.0.2, UDP port 5001\n",
      "Sending 1470 byte datagrams\n",
      "UDP buffer size: 0.20 MByte (default)\n",
      "------------------------------------------------------------\n",
      "[  3] local 192.168.0.1 port 57988 connected with 192.168.0.2 port 5001\n",
      "[ ID] Interval       Transfer     Bandwidth\n",
      "[  3]  0.0- 1.0 sec  96.2 MBytes   807 Mbits/sec\n",
      "[  3]  1.0- 2.0 sec  95.9 MBytes   805 Mbits/sec\n",
      "[  3]  2.0- 3.0 sec  96.5 MBytes   809 Mbits/sec\n",
      "[  3]  0.0- 3.0 sec   289 MBytes   805 Mbits/sec\n",
      "[  3] Sent 205914 datagrams\n",
      "[  3] Server Report:\n",
      "[  3]  0.0- 6.0 sec   280 MBytes   389 Mbits/sec   0.003 ms 5982/205913 (2.9%)\n",
      "[  3]  0.0- 6.0 sec  1 datagrams received out-of-order\n",
      "\n",
      "------------------------------------------------------------\n",
      "Client connecting to 192.168.0.2, UDP port 5001\n",
      "Sending 1470 byte datagrams\n",
      "UDP buffer size: 0.20 MByte (default)\n",
      "------------------------------------------------------------\n",
      "[  3] local 192.168.0.1 port 43312 connected with 192.168.0.2 port 5001\n",
      "[ ID] Interval       Transfer     Bandwidth\n",
      "[  3]  0.0- 1.0 sec  96.0 MBytes   805 Mbits/sec\n",
      "[  3]  1.0- 2.0 sec  95.9 MBytes   804 Mbits/sec\n",
      "[  3]  2.0- 3.0 sec  95.9 MBytes   804 Mbits/sec\n",
      "[  3]  0.0- 3.0 sec   288 MBytes   803 Mbits/sec\n",
      "[  3] Sent 205298 datagrams\n",
      "[  3] Server Report:\n",
      "[  3]  0.0- 6.0 sec   156 MBytes   217 Mbits/sec   0.012 ms 93945/205297 (46%)\n",
      "[  3]  0.0- 6.0 sec  1 datagrams received out-of-order\n",
      "\n",
      "------------------------------------------------------------\n",
      "Client connecting to 192.168.0.2, UDP port 5001\n",
      "Sending 1470 byte datagrams\n",
      "UDP buffer size: 0.20 MByte (default)\n",
      "------------------------------------------------------------\n",
      "[  3] local 192.168.0.1 port 53557 connected with 192.168.0.2 port 5001\n",
      "[ ID] Interval       Transfer     Bandwidth\n",
      "[  3]  0.0- 1.0 sec  95.9 MBytes   804 Mbits/sec\n",
      "[  3]  1.0- 2.0 sec  95.9 MBytes   804 Mbits/sec\n",
      "[  3]  2.0- 3.0 sec  95.9 MBytes   804 Mbits/sec\n",
      "[  3]  0.0- 3.0 sec   288 MBytes   802 Mbits/sec\n",
      "[  3] Sent 205216 datagrams\n",
      "[  3] Server Report:\n",
      "[  3]  0.0- 6.3 sec   109 MBytes   146 Mbits/sec   0.011 ms 127173/205215 (62%)\n",
      "[  3]  0.0- 6.3 sec  1 datagrams received out-of-order\n",
      "\n",
      "------------------------------------------------------------\n",
      "Client connecting to 192.168.0.2, UDP port 5001\n",
      "Sending 1470 byte datagrams\n",
      "UDP buffer size: 0.20 MByte (default)\n",
      "------------------------------------------------------------\n",
      "[  3] local 192.168.0.1 port 35356 connected with 192.168.0.2 port 5001\n",
      "[ ID] Interval       Transfer     Bandwidth\n",
      "[  3]  0.0- 1.0 sec  95.9 MBytes   804 Mbits/sec\n",
      "[  3]  1.0- 2.0 sec  95.9 MBytes   804 Mbits/sec\n",
      "[  3]  0.0- 3.0 sec   288 MBytes   804 Mbits/sec\n",
      "[  3] Sent 205091 datagrams\n",
      "[  3] Server Report:\n",
      "[  3]  0.0- 6.0 sec   140 MBytes   194 Mbits/sec   0.002 ms 105538/205090 (51%)\n",
      "[  3]  0.0- 6.0 sec  1 datagrams received out-of-order\n",
      "\n",
      "------------------------------------------------------------\n",
      "Client connecting to 192.168.0.2, UDP port 5001\n",
      "Sending 1470 byte datagrams\n",
      "UDP buffer size: 0.20 MByte (default)\n",
      "------------------------------------------------------------\n",
      "[  3] local 192.168.0.1 port 60304 connected with 192.168.0.2 port 5001\n",
      "[ ID] Interval       Transfer     Bandwidth\n",
      "[  3]  0.0- 1.0 sec  95.9 MBytes   804 Mbits/sec\n",
      "[  3]  1.0- 2.0 sec  95.9 MBytes   804 Mbits/sec\n",
      "[  3]  2.0- 3.0 sec  95.9 MBytes   804 Mbits/sec\n",
      "[  3]  0.0- 3.0 sec   288 MBytes   802 Mbits/sec\n",
      "[  3] Sent 205216 datagrams\n",
      "[  3] Server Report:\n",
      "[  3]  0.0- 6.3 sec  81.9 MBytes   109 Mbits/sec   0.011 ms 146795/205215 (72%)\n",
      "[  3]  0.0- 6.3 sec  1 datagrams received out-of-order\n",
      "\n",
      "------------------------------------------------------------\n",
      "Client connecting to 192.168.0.2, UDP port 5001\n",
      "Sending 1470 byte datagrams\n",
      "UDP buffer size: 0.20 MByte (default)\n",
      "------------------------------------------------------------\n",
      "[  3] local 192.168.0.1 port 51035 connected with 192.168.0.2 port 5001\n",
      "[ ID] Interval       Transfer     Bandwidth\n",
      "[  3]  0.0- 1.0 sec  95.9 MBytes   804 Mbits/sec\n",
      "[  3]  1.0- 2.0 sec  95.9 MBytes   804 Mbits/sec\n",
      "[  3]  0.0- 3.0 sec   288 MBytes   804 Mbits/sec\n",
      "[  3] Sent 205087 datagrams\n",
      "[  3] Server Report:\n",
      "[  3]  0.0- 6.0 sec   281 MBytes   390 Mbits/sec   0.004 ms 4963/205086 (2.4%)\n",
      "[  3]  0.0- 6.0 sec  1 datagrams received out-of-order\n",
      "\n",
      "------------------------------------------------------------\n",
      "Client connecting to 192.168.0.2, UDP port 5001\n",
      "Sending 1470 byte datagrams\n",
      "UDP buffer size: 0.20 MByte (default)\n",
      "------------------------------------------------------------\n",
      "[  3] local 192.168.0.1 port 51589 connected with 192.168.0.2 port 5001\n",
      "[ ID] Interval       Transfer     Bandwidth\n",
      "[  3]  0.0- 1.0 sec  95.9 MBytes   805 Mbits/sec\n",
      "[  3]  1.0- 2.0 sec  95.9 MBytes   804 Mbits/sec\n",
      "[  3]  2.0- 3.0 sec  94.9 MBytes   796 Mbits/sec\n",
      "[  3]  0.0- 3.0 sec   287 MBytes   801 Mbits/sec\n",
      "[  3] Sent 204546 datagrams\n",
      "[  3] Server Report:\n",
      "[  3]  0.0- 6.0 sec   150 MBytes   209 Mbits/sec   0.046 ms 97242/204545 (48%)\n",
      "[  3]  0.0- 6.0 sec  1 datagrams received out-of-order\n",
      "\n",
      "------------------------------------------------------------\n",
      "Client connecting to 192.168.0.2, UDP port 5001\n",
      "Sending 1470 byte datagrams\n",
      "UDP buffer size: 0.20 MByte (default)\n",
      "------------------------------------------------------------\n",
      "[  3] local 192.168.0.1 port 59893 connected with 192.168.0.2 port 5001\n",
      "[ ID] Interval       Transfer     Bandwidth\n",
      "[  3]  0.0- 1.0 sec  95.9 MBytes   804 Mbits/sec\n",
      "[  3]  1.0- 2.0 sec  96.0 MBytes   805 Mbits/sec\n",
      "[  3]  0.0- 3.0 sec   288 MBytes   806 Mbits/sec\n",
      "[  3] Sent 205610 datagrams\n",
      "[  3] Server Report:\n",
      "[  3]  0.0- 6.0 sec   286 MBytes   397 Mbits/sec   0.001 ms 1694/205609 (0.82%)\n",
      "[  3]  0.0- 6.0 sec  1 datagrams received out-of-order\n",
      "\n",
      "------------------------------------------------------------\n",
      "Client connecting to 192.168.0.2, UDP port 5001\n",
      "Sending 1470 byte datagrams\n",
      "UDP buffer size: 0.20 MByte (default)\n",
      "------------------------------------------------------------\n",
      "[  3] local 192.168.0.1 port 52943 connected with 192.168.0.2 port 5001\n",
      "[ ID] Interval       Transfer     Bandwidth\n",
      "[  3]  0.0- 1.0 sec  96.9 MBytes   813 Mbits/sec\n",
      "[  3]  1.0- 2.0 sec  95.9 MBytes   804 Mbits/sec\n",
      "[  3]  2.0- 3.0 sec  95.9 MBytes   804 Mbits/sec\n",
      "[  3]  0.0- 3.0 sec   289 MBytes   805 Mbits/sec\n",
      "[  3] Sent 205914 datagrams\n",
      "[  3] Server Report:\n",
      "[  3]  0.0- 6.0 sec   222 MBytes   307 Mbits/sec   0.009 ms 47826/205913 (23%)\n",
      "[  3]  0.0- 6.0 sec  1 datagrams received out-of-order\n",
      "\n",
      "------------------------------------------------------------\n",
      "Client connecting to 192.168.0.2, UDP port 5001\n",
      "Sending 1470 byte datagrams\n",
      "UDP buffer size: 0.20 MByte (default)\n",
      "------------------------------------------------------------\n",
      "[  3] local 192.168.0.1 port 35818 connected with 192.168.0.2 port 5001\n",
      "[ ID] Interval       Transfer     Bandwidth\n",
      "[  3]  0.0- 1.0 sec  95.9 MBytes   804 Mbits/sec\n",
      "[  3]  1.0- 2.0 sec  96.9 MBytes   813 Mbits/sec\n",
      "[  3]  2.0- 3.0 sec  95.9 MBytes   804 Mbits/sec\n",
      "[  3]  0.0- 3.0 sec   289 MBytes   807 Mbits/sec\n",
      "[  3] Sent 205914 datagrams\n",
      "[  3] Server Report:\n",
      "[  3]  0.0- 6.0 sec   102 MBytes   141 Mbits/sec   0.006 ms 133496/205913 (65%)\n",
      "[  3]  0.0- 6.0 sec  1 datagrams received out-of-order\n",
      "\n"
     ]
    },
    {
     "name": "stdout",
     "output_type": "stream",
     "text": [
      "------------------------------------------------------------\n",
      "Client connecting to 192.168.0.2, UDP port 5001\n",
      "Sending 1470 byte datagrams\n",
      "UDP buffer size: 0.20 MByte (default)\n",
      "------------------------------------------------------------\n",
      "[  3] local 192.168.0.1 port 35816 connected with 192.168.0.2 port 5001\n",
      "[ ID] Interval       Transfer     Bandwidth\n",
      "[  3]  0.0- 1.0 sec  95.9 MBytes   804 Mbits/sec\n",
      "[  3]  1.0- 2.0 sec  95.9 MBytes   804 Mbits/sec\n",
      "[  3]  0.0- 3.0 sec   288 MBytes   804 Mbits/sec\n",
      "[  3] Sent 205121 datagrams\n",
      "[  3] Server Report:\n",
      "[  3]  0.0- 6.3 sec  80.3 MBytes   107 Mbits/sec  15.659 ms 147827/205120 (72%)\n",
      "[  3]  0.0- 6.3 sec  1 datagrams received out-of-order\n",
      "\n"
     ]
    }
   ],
   "source": [
    "server_cmd = 'iperf -s -B '+machB_ip_local+' -u'\n",
    "ssh = ssh_connect(machB_ip)\n",
    "start_new_thread(ssh_cmd,(server_cmd,ssh))\n",
    "\n",
    "bands = [10,100,1000,5000,9000]\n",
    "for b in bands:\n",
    "    for i in range(5):\n",
    "        sleep(1)\n",
    "        client_cmd = 'iperf -c '+machB_ip_local+' -i 1 -t 3 -f m -b '+str(b)+'m'\n",
    "        local_cmd(client_cmd+' | grep -e \"%\"> /root/'+crsid+'/L50Lab1/12/exp12_'+str(b)+ '_'+ str(i))\n",
    "        print(local_cmd(client_cmd))\n",
    "    \n",
    "ssh_cmd('pkill iperf', ssh)\n",
    "ssh.close()"
   ]
  },
  {
   "cell_type": "markdown",
   "metadata": {},
   "source": [
    "<font color='red'>TODO:</font> Plot a graph of percentage of packets dropped against bandwidth, with error bars."
   ]
  },
  {
   "cell_type": "code",
   "execution_count": 75,
   "metadata": {
    "scrolled": false
   },
   "outputs": [
    {
     "data": {
      "image/png": "[encoded data removed]",
      "text/plain": [
       "<Figure size 432x288 with 1 Axes>"
      ]
     },
     "metadata": {
      "needs_background": "light"
     },
     "output_type": "display_data"
    }
   ],
   "source": [
    "bans,pcs = data_band('12/exp12',crsid,bands)\n",
    "ys, yerr = graph_error(pcs)\n",
    "\n",
    "plt.errorbar(bands,ys,yerr=yerr)\n",
    "plt.show()"
   ]
  },
  {
   "cell_type": "markdown",
   "metadata": {},
   "source": [
    "### Experiment 13"
   ]
  },
  {
   "cell_type": "markdown",
   "metadata": {},
   "source": [
    "###### Usage of iperf3 :   \n",
    "  \n",
    "Server:  \n",
    "* TCP/UDP      \n",
    "`iperf3 -s -B <server address>`     \n",
    "     \n",
    "Client:  \n",
    "* TCP     \n",
    "`iperf3 -c <server address> [Opt: -i <interval>] [Opt: -t <time>] [Opt: -f <format>] [Opt: -w <window size>]`     \n",
    "* UDP     \n",
    "`iperf3 -c <server address> [Opt: -i <interval>] [Opt: -t <time>] [Opt: -f <format>] [Opt: -b <bandwidth>]`"
   ]
  },
  {
   "cell_type": "markdown",
   "metadata": {},
   "source": [
    "### 13a"
   ]
  },
  {
   "cell_type": "markdown",
   "metadata": {},
   "source": [
    "Run one way iperf, from A to B, 10 sec long. Plot the bandwidth for each time interval (1 sec)."
   ]
  },
  {
   "cell_type": "markdown",
   "metadata": {},
   "source": [
    "<font color='red'>TODO:</font> Fill in `server_cmd`, the command to start the server. Fill in `client_cmd`, the command to connect to the server, 10 seconds long, format Gbits/sec, interval 1 second."
   ]
  },
  {
   "cell_type": "code",
   "execution_count": 84,
   "metadata": {},
   "outputs": [],
   "source": [
    "server_cmd = 'iperf3 -s -B '+machB_ip_local\n",
    "ssh = ssh_connect(machB_ip)\n",
    "start_new_thread(ssh_cmd,(server_cmd,ssh))\n",
    "\n",
    "for i in range(5):\n",
    "    sleep(1)\n",
    "    client_cmd = 'iperf3 -c '+machB_ip_local+' -t 10 -f g -i 1'\n",
    "    local_cmd(client_cmd+' | grep -e \"bits/sec\" -m 10 > /root/'+crsid+'/L50Lab1/13/exp13a_' + str(i))\n",
    "\n",
    "ssh_cmd('pkill iperf3', ssh)\n",
    "ssh.close()"
   ]
  },
  {
   "cell_type": "markdown",
   "metadata": {},
   "source": [
    "<font color='red'>TODO:</font> Plot a step graph of bandwidth against time, with error bars."
   ]
  },
  {
   "cell_type": "code",
   "execution_count": 87,
   "metadata": {
    "scrolled": false
   },
   "outputs": [
    {
     "data": {
      "image/png": "[encoded data removed]",
      "text/plain": [
       "<Figure size 432x288 with 1 Axes>"
      ]
     },
     "metadata": {
      "needs_background": "light"
     },
     "output_type": "display_data"
    }
   ],
   "source": [
    "bws = data_iperf('13/exp13a',crsid)\n",
    "ys, yerr = graph_error(bws)\n",
    "\n",
    "plt.errorbar(np.arange(0.5,10.0,1.0),ys,yerr=yerr,linestyle=\"none\")\n",
    "ys.append(ys[-1])\n",
    "plt.step(np.arange(0,11,1), ys ,where=\"post\")\n",
    "\n",
    "plt.xlabel(\"Time (s)\")\n",
    "plt.ylabel(\"Bandwidth (Gbit/s)\")\n",
    "plt.show()"
   ]
  },
  {
   "cell_type": "markdown",
   "metadata": {},
   "source": [
    "### 13b"
   ]
  },
  {
   "cell_type": "markdown",
   "metadata": {},
   "source": [
    "Run one way iperf, from A to B, 3 sec long, with varying window size. Plot the bandwidth for each window size."
   ]
  },
  {
   "cell_type": "markdown",
   "metadata": {},
   "source": [
    "<font color='red'>TODO:</font> Fill in `server_cmd`, the command to start the server. Fill in `client_cmd`, the command to connect to the server, 3 seconds long, format Mbits/sec, for every window size in KB."
   ]
  },
  {
   "cell_type": "code",
   "execution_count": 106,
   "metadata": {},
   "outputs": [],
   "source": [
    "server_cmd ='iperf3 -s -B '+machB_ip_local\n",
    "ssh = ssh_connect(machB_ip)\n",
    "start_new_thread(ssh_cmd,(server_cmd,ssh))\n",
    "\n",
    "windows = [1,50,100,150,200,250]\n",
    "for w in windows:\n",
    "    for i in range(5):\n",
    "        sleep(1)\n",
    "        client_cmd = 'iperf3 -c '+machB_ip_local+' -t 3 -f m -w '+str(w)+'KB'\n",
    "        local_cmd(client_cmd +' | grep -e \"bits/sec\" > /root/'+crsid+'/L50Lab1/13/exp13b_'+str(w)+'_'+str(i))\n",
    "    \n",
    "ssh_cmd('pkill iperf3', ssh)\n",
    "ssh.close()"
   ]
  },
  {
   "cell_type": "markdown",
   "metadata": {},
   "source": [
    "<font color='red'>TODO:</font> Plot a graph of bandwidth against window size, with error bars."
   ]
  },
  {
   "cell_type": "code",
   "execution_count": 93,
   "metadata": {
    "scrolled": true
   },
   "outputs": [
    {
     "data": {
      "image/png": "[encoded data removed]",
      "text/plain": [
       "<Figure size 432x288 with 1 Axes>"
      ]
     },
     "metadata": {
      "needs_background": "light"
     },
     "output_type": "display_data"
    }
   ],
   "source": [
    "bws = data13b(windows,crsid)\n",
    "ys,yerr = graph_error(bws)\n",
    "\n",
    "plt.errorbar(windows,ys,yerr=yerr)\n",
    "plt.ylabel(\"Bandwidth (Mbits/sec)\")\n",
    "plt.xlabel(\"Window size (KB)\")\n",
    "plt.show()"
   ]
  },
  {
   "cell_type": "markdown",
   "metadata": {},
   "source": [
    "### 13c"
   ]
  },
  {
   "cell_type": "markdown",
   "metadata": {},
   "source": [
    "Run one way iperf using UDP, from A to B, 3 sec long, with varying bandwidth. Plot the percentage of packets dropped for each bandwidth."
   ]
  },
  {
   "cell_type": "markdown",
   "metadata": {},
   "source": [
    "<font color='red'>TODO:</font> Fill in `server_cmd`, the command to start the UDP server. Fill in `client_cmd`, the command to connect to the UDP server, 3 seconds long, format Mbits/sec, for every bandwidth in Mbits/sec."
   ]
  },
  {
   "cell_type": "code",
   "execution_count": 111,
   "metadata": {
    "scrolled": true
   },
   "outputs": [
    {
     "name": "stdout",
     "output_type": "stream",
     "text": [
      "Connecting to host 192.168.0.2, port 5201\n",
      "[  4] local 192.168.0.1 port 45254 connected to 192.168.0.2 port 5201\n",
      "[ ID] Interval           Transfer     Bandwidth       Total Datagrams\n",
      "[  4]   0.00-1.00   sec  1.08 MBytes  9.04 Mbits/sec  138  \n",
      "[  4]   1.00-2.00   sec  1.19 MBytes  9.96 Mbits/sec  152  \n",
      "[  4]   2.00-3.00   sec  1.20 MBytes  10.0 Mbits/sec  153  \n",
      "- - - - - - - - - - - - - - - - - - - - - - - - -\n",
      "[ ID] Interval           Transfer     Bandwidth       Jitter    Lost/Total Datagrams\n",
      "[  4]   0.00-3.00   sec  3.46 MBytes  9.68 Mbits/sec  0.015 ms  49/443 (11%)  \n",
      "[  4] Sent 443 datagrams\n",
      "\n",
      "iperf Done.\n",
      "\n",
      "Connecting to host 192.168.0.2, port 5201\n",
      "[  4] local 192.168.0.1 port 39253 connected to 192.168.0.2 port 5201\n",
      "[ ID] Interval           Transfer     Bandwidth       Total Datagrams\n",
      "[  4]   0.00-1.00   sec  1.08 MBytes  9.04 Mbits/sec  138  \n",
      "[  4]   1.00-2.00   sec  1.19 MBytes  9.96 Mbits/sec  152  \n",
      "[  4]   2.00-3.00   sec  1.20 MBytes  10.0 Mbits/sec  153  \n",
      "- - - - - - - - - - - - - - - - - - - - - - - - -\n",
      "[ ID] Interval           Transfer     Bandwidth       Jitter    Lost/Total Datagrams\n",
      "[  4]   0.00-3.00   sec  3.46 MBytes  9.68 Mbits/sec  0.015 ms  12/443 (2.7%)  \n",
      "[  4] Sent 443 datagrams\n",
      "\n",
      "iperf Done.\n",
      "\n",
      "Connecting to host 192.168.0.2, port 5201\n",
      "[  4] local 192.168.0.1 port 56301 connected to 192.168.0.2 port 5201\n",
      "[ ID] Interval           Transfer     Bandwidth       Total Datagrams\n",
      "[  4]   0.00-1.00   sec  1.08 MBytes  9.04 Mbits/sec  138  \n",
      "[  4]   1.00-2.00   sec  1.20 MBytes  10.0 Mbits/sec  153  \n",
      "[  4]   2.00-3.00   sec  1.19 MBytes  9.96 Mbits/sec  152  \n",
      "- - - - - - - - - - - - - - - - - - - - - - - - -\n",
      "[ ID] Interval           Transfer     Bandwidth       Jitter    Lost/Total Datagrams\n",
      "[  4]   0.00-3.00   sec  3.46 MBytes  9.68 Mbits/sec  0.015 ms  0/443 (0%)  \n",
      "[  4] Sent 443 datagrams\n",
      "\n",
      "iperf Done.\n",
      "\n",
      "Connecting to host 192.168.0.2, port 5201\n",
      "[  4] local 192.168.0.1 port 59487 connected to 192.168.0.2 port 5201\n",
      "[ ID] Interval           Transfer     Bandwidth       Total Datagrams\n",
      "[  4]   0.00-1.00   sec  1.08 MBytes  9.04 Mbits/sec  138  \n",
      "[  4]   1.00-2.00   sec  1.20 MBytes  10.0 Mbits/sec  153  \n",
      "[  4]   2.00-3.00   sec  1.19 MBytes  9.96 Mbits/sec  152  \n",
      "- - - - - - - - - - - - - - - - - - - - - - - - -\n",
      "[ ID] Interval           Transfer     Bandwidth       Jitter    Lost/Total Datagrams\n",
      "[  4]   0.00-3.00   sec  3.46 MBytes  9.68 Mbits/sec  0.016 ms  2/443 (0.45%)  \n",
      "[  4] Sent 443 datagrams\n",
      "\n",
      "iperf Done.\n",
      "\n",
      "Connecting to host 192.168.0.2, port 5201\n",
      "[  4] local 192.168.0.1 port 39240 connected to 192.168.0.2 port 5201\n",
      "[ ID] Interval           Transfer     Bandwidth       Total Datagrams\n",
      "[  4]   0.00-1.00   sec  1.08 MBytes  9.04 Mbits/sec  138  \n",
      "[  4]   1.00-2.00   sec  1.20 MBytes  10.0 Mbits/sec  153  \n",
      "[  4]   2.00-3.00   sec  1.19 MBytes  9.96 Mbits/sec  152  \n",
      "- - - - - - - - - - - - - - - - - - - - - - - - -\n",
      "[ ID] Interval           Transfer     Bandwidth       Jitter    Lost/Total Datagrams\n",
      "[  4]   0.00-3.00   sec  3.46 MBytes  9.68 Mbits/sec  0.015 ms  3/443 (0.68%)  \n",
      "[  4] Sent 443 datagrams\n",
      "\n",
      "iperf Done.\n",
      "\n",
      "Connecting to host 192.168.0.2, port 5201\n",
      "[  4] local 192.168.0.1 port 59605 connected to 192.168.0.2 port 5201\n",
      "[ ID] Interval           Transfer     Bandwidth       Total Datagrams\n",
      "[  4]   0.00-1.00   sec  10.8 MBytes  90.2 Mbits/sec  1377  \n",
      "[  4]   1.00-2.00   sec  11.9 MBytes   100 Mbits/sec  1526  \n",
      "[  4]   2.00-3.00   sec  11.9 MBytes   100 Mbits/sec  1526  \n",
      "- - - - - - - - - - - - - - - - - - - - - - - - -\n",
      "[ ID] Interval           Transfer     Bandwidth       Jitter    Lost/Total Datagrams\n",
      "[  4]   0.00-3.00   sec  34.6 MBytes  96.7 Mbits/sec  0.145 ms  3831/4424 (87%)  \n",
      "[  4] Sent 4424 datagrams\n",
      "\n",
      "iperf Done.\n",
      "\n",
      "Connecting to host 192.168.0.2, port 5201\n",
      "[  4] local 192.168.0.1 port 51251 connected to 192.168.0.2 port 5201\n",
      "[ ID] Interval           Transfer     Bandwidth       Total Datagrams\n",
      "[  4]   0.00-1.00   sec  10.8 MBytes  90.4 Mbits/sec  1379  \n",
      "[  4]   1.00-2.00   sec  11.9 MBytes   100 Mbits/sec  1526  \n",
      "[  4]   2.00-3.00   sec  11.9 MBytes   100 Mbits/sec  1526  \n",
      "- - - - - - - - - - - - - - - - - - - - - - - - -\n",
      "[ ID] Interval           Transfer     Bandwidth       Jitter    Lost/Total Datagrams\n",
      "[  4]   0.00-3.00   sec  34.6 MBytes  96.8 Mbits/sec  0.012 ms  13/4431 (0.29%)  \n",
      "[  4] Sent 4431 datagrams\n",
      "\n",
      "iperf Done.\n",
      "\n",
      "Connecting to host 192.168.0.2, port 5201\n",
      "[  4] local 192.168.0.1 port 45878 connected to 192.168.0.2 port 5201\n",
      "[ ID] Interval           Transfer     Bandwidth       Total Datagrams\n",
      "[  4]   0.00-1.00   sec  10.8 MBytes  90.4 Mbits/sec  1379  \n",
      "[  4]   1.00-2.00   sec  11.9 MBytes   100 Mbits/sec  1526  \n",
      "[  4]   2.00-3.00   sec  11.9 MBytes   100 Mbits/sec  1526  \n",
      "- - - - - - - - - - - - - - - - - - - - - - - - -\n",
      "[ ID] Interval           Transfer     Bandwidth       Jitter    Lost/Total Datagrams\n",
      "[  4]   0.00-3.00   sec  34.6 MBytes  96.8 Mbits/sec  0.013 ms  2/4431 (0.045%)  \n",
      "[  4] Sent 4431 datagrams\n",
      "\n",
      "iperf Done.\n",
      "\n",
      "Connecting to host 192.168.0.2, port 5201\n",
      "[  4] local 192.168.0.1 port 34024 connected to 192.168.0.2 port 5201\n",
      "[ ID] Interval           Transfer     Bandwidth       Total Datagrams\n",
      "[  4]   0.00-1.00   sec  10.8 MBytes  90.2 Mbits/sec  1377  \n",
      "[  4]   1.00-2.00   sec  11.9 MBytes   100 Mbits/sec  1526  \n",
      "[  4]   2.00-3.00   sec  11.9 MBytes   100 Mbits/sec  1526  \n",
      "- - - - - - - - - - - - - - - - - - - - - - - - -\n",
      "[ ID] Interval           Transfer     Bandwidth       Jitter    Lost/Total Datagrams\n",
      "[  4]   0.00-3.00   sec  34.6 MBytes  96.7 Mbits/sec  0.106 ms  3792/4412 (86%)  \n",
      "[  4] Sent 4412 datagrams\n",
      "\n",
      "iperf Done.\n",
      "\n",
      "Connecting to host 192.168.0.2, port 5201\n",
      "[  4] local 192.168.0.1 port 52564 connected to 192.168.0.2 port 5201\n",
      "[ ID] Interval           Transfer     Bandwidth       Total Datagrams\n",
      "[  4]   0.00-1.00   sec  10.8 MBytes  90.4 Mbits/sec  1379  \n",
      "[  4]   1.00-2.00   sec  11.9 MBytes   100 Mbits/sec  1526  \n",
      "[  4]   2.00-3.00   sec  11.9 MBytes   100 Mbits/sec  1526  \n",
      "- - - - - - - - - - - - - - - - - - - - - - - - -\n",
      "[ ID] Interval           Transfer     Bandwidth       Jitter    Lost/Total Datagrams\n",
      "[  4]   0.00-3.00   sec  34.6 MBytes  96.8 Mbits/sec  0.012 ms  269/4431 (6.1%)  \n",
      "[  4] Sent 4431 datagrams\n",
      "\n",
      "iperf Done.\n",
      "\n",
      "Connecting to host 192.168.0.2, port 5201\n",
      "[  4] local 192.168.0.1 port 56485 connected to 192.168.0.2 port 5201\n",
      "[ ID] Interval           Transfer     Bandwidth       Total Datagrams\n",
      "[  4]   0.00-1.00   sec   111 MBytes   934 Mbits/sec  14249  \n",
      "[  4]   1.00-2.00   sec   119 MBytes   996 Mbits/sec  15205  \n",
      "[  4]   2.00-3.00   sec   120 MBytes  1004 Mbits/sec  15320  \n",
      "- - - - - - - - - - - - - - - - - - - - - - - - -\n",
      "[ ID] Interval           Transfer     Bandwidth       Jitter    Lost/Total Datagrams\n",
      "[  4]   0.00-3.00   sec   350 MBytes   978 Mbits/sec  0.012 ms  3303/44774 (7.4%)  \n",
      "[  4] Sent 44774 datagrams\n",
      "\n",
      "iperf Done.\n",
      "\n",
      "Connecting to host 192.168.0.2, port 5201\n",
      "[  4] local 192.168.0.1 port 54422 connected to 192.168.0.2 port 5201\n",
      "[ ID] Interval           Transfer     Bandwidth       Total Datagrams\n",
      "[  4]   0.00-1.00   sec   109 MBytes   917 Mbits/sec  14000  \n",
      "[  4]   1.00-2.00   sec   119 MBytes  1000 Mbits/sec  15259  \n",
      "[  4]   2.00-3.00   sec   119 MBytes   997 Mbits/sec  15210  \n",
      "- - - - - - - - - - - - - - - - - - - - - - - - -\n",
      "[ ID] Interval           Transfer     Bandwidth       Jitter    Lost/Total Datagrams\n",
      "[  4]   0.00-3.00   sec   347 MBytes   971 Mbits/sec  0.615 ms  35050/44033 (80%)  \n",
      "[  4] Sent 44033 datagrams\n",
      "\n",
      "iperf Done.\n",
      "\n",
      "Connecting to host 192.168.0.2, port 5201\n",
      "[  4] local 192.168.0.1 port 51327 connected to 192.168.0.2 port 5201\n",
      "[ ID] Interval           Transfer     Bandwidth       Total Datagrams\n",
      "[  4]   0.00-1.00   sec   111 MBytes   934 Mbits/sec  14256  \n",
      "[  4]   1.00-2.00   sec   119 MBytes  1000 Mbits/sec  15256  \n",
      "[  4]   2.00-3.00   sec   117 MBytes   983 Mbits/sec  15006  \n",
      "- - - - - - - - - - - - - - - - - - - - - - - - -\n",
      "[ ID] Interval           Transfer     Bandwidth       Jitter    Lost/Total Datagrams\n",
      "[  4]   0.00-3.00   sec   348 MBytes   972 Mbits/sec  0.131 ms  12880/44498 (29%)  \n",
      "[  4] Sent 44498 datagrams\n",
      "\n",
      "iperf Done.\n",
      "\n",
      "Connecting to host 192.168.0.2, port 5201\n",
      "[  4] local 192.168.0.1 port 52310 connected to 192.168.0.2 port 5201\n",
      "[ ID] Interval           Transfer     Bandwidth       Total Datagrams\n",
      "[  4]   0.00-1.00   sec   109 MBytes   917 Mbits/sec  14000  \n",
      "[  4]   1.00-2.00   sec   121 MBytes  1018 Mbits/sec  15525  \n",
      "[  4]   2.00-3.00   sec   117 MBytes   983 Mbits/sec  15000  \n",
      "- - - - - - - - - - - - - - - - - - - - - - - - -\n",
      "[ ID] Interval           Transfer     Bandwidth       Jitter    Lost/Total Datagrams\n",
      "[  4]   0.00-3.00   sec   348 MBytes   973 Mbits/sec  0.114 ms  18914/44522 (42%)  \n",
      "[  4] Sent 44522 datagrams\n",
      "\n",
      "iperf Done.\n",
      "\n"
     ]
    },
    {
     "name": "stdout",
     "output_type": "stream",
     "text": [
      "Connecting to host 192.168.0.2, port 5201\n",
      "[  4] local 192.168.0.1 port 52054 connected to 192.168.0.2 port 5201\n",
      "[ ID] Interval           Transfer     Bandwidth       Total Datagrams\n",
      "[  4]   0.00-1.00   sec   111 MBytes   934 Mbits/sec  14252  \n",
      "[  4]   1.00-2.00   sec   119 MBytes  1000 Mbits/sec  15262  \n",
      "[  4]   2.00-3.00   sec   119 MBytes  1000 Mbits/sec  15259  \n",
      "- - - - - - - - - - - - - - - - - - - - - - - - -\n",
      "[ ID] Interval           Transfer     Bandwidth       Jitter    Lost/Total Datagrams\n",
      "[  4]   0.00-3.00   sec   350 MBytes   978 Mbits/sec  0.010 ms  7/44773 (0.016%)  \n",
      "[  4] Sent 44773 datagrams\n",
      "\n",
      "iperf Done.\n",
      "\n",
      "Connecting to host 192.168.0.2, port 5201\n",
      "[  4] local 192.168.0.1 port 44030 connected to 192.168.0.2 port 5201\n",
      "[ ID] Interval           Transfer     Bandwidth       Total Datagrams\n",
      "[  4]   0.00-1.00   sec   381 MBytes  3200 Mbits/sec  48831  \n",
      "[  4]   1.00-2.00   sec   623 MBytes  5224 Mbits/sec  79711  \n",
      "[  4]   2.00-3.00   sec   682 MBytes  5720 Mbits/sec  87279  \n",
      "- - - - - - - - - - - - - - - - - - - - - - - - -\n",
      "[ ID] Interval           Transfer     Bandwidth       Jitter    Lost/Total Datagrams\n",
      "[  4]   0.00-3.00   sec  1.65 GBytes  4715 Mbits/sec  0.057 ms  161327/215625 (75%)  \n",
      "[  4] Sent 215625 datagrams\n",
      "\n",
      "iperf Done.\n",
      "\n",
      "Connecting to host 192.168.0.2, port 5201\n",
      "[  4] local 192.168.0.1 port 57233 connected to 192.168.0.2 port 5201\n",
      "[ ID] Interval           Transfer     Bandwidth       Total Datagrams\n",
      "[  4]   0.00-1.00   sec   593 MBytes  4973 Mbits/sec  75885  \n",
      "[  4]   1.00-2.00   sec   559 MBytes  4688 Mbits/sec  71527  \n",
      "[  4]   2.00-3.00   sec   624 MBytes  5238 Mbits/sec  79926  \n",
      "- - - - - - - - - - - - - - - - - - - - - - - - -\n",
      "[ ID] Interval           Transfer     Bandwidth       Jitter    Lost/Total Datagrams\n",
      "[  4]   0.00-3.00   sec  1.73 GBytes  4966 Mbits/sec  0.333 ms  192870/226777 (85%)  \n",
      "[  4] Sent 226777 datagrams\n",
      "\n",
      "iperf Done.\n",
      "\n",
      "Connecting to host 192.168.0.2, port 5201\n",
      "[  4] local 192.168.0.1 port 50623 connected to 192.168.0.2 port 5201\n",
      "[ ID] Interval           Transfer     Bandwidth       Total Datagrams\n",
      "[  4]   0.00-1.00   sec   394 MBytes  3305 Mbits/sec  50429  \n",
      "[  4]   1.00-2.00   sec   525 MBytes  4407 Mbits/sec  67241  \n",
      "[  4]   2.00-3.00   sec   548 MBytes  4601 Mbits/sec  70200  \n",
      "- - - - - - - - - - - - - - - - - - - - - - - - -\n",
      "[ ID] Interval           Transfer     Bandwidth       Jitter    Lost/Total Datagrams\n",
      "[  4]   0.00-3.00   sec  1.43 GBytes  4104 Mbits/sec  0.114 ms  110658/187820 (59%)  \n",
      "[  4] Sent 187820 datagrams\n",
      "\n",
      "iperf Done.\n",
      "\n",
      "Connecting to host 192.168.0.2, port 5201\n",
      "[  4] local 192.168.0.1 port 39393 connected to 192.168.0.2 port 5201\n",
      "[ ID] Interval           Transfer     Bandwidth       Total Datagrams\n",
      "[  4]   0.00-1.00   sec   577 MBytes  4838 Mbits/sec  73820  \n",
      "[  4]   1.00-2.00   sec   567 MBytes  4758 Mbits/sec  72618  \n",
      "[  4]   2.00-3.00   sec   492 MBytes  4127 Mbits/sec  62963  \n",
      "- - - - - - - - - - - - - - - - - - - - - - - - -\n",
      "[ ID] Interval           Transfer     Bandwidth       Jitter    Lost/Total Datagrams\n",
      "[  4]   0.00-3.00   sec  1.60 GBytes  4574 Mbits/sec  0.010 ms  167038/209386 (80%)  \n",
      "[  4] Sent 209386 datagrams\n",
      "\n",
      "iperf Done.\n",
      "\n",
      "Connecting to host 192.168.0.2, port 5201\n",
      "[  4] local 192.168.0.1 port 60281 connected to 192.168.0.2 port 5201\n",
      "[ ID] Interval           Transfer     Bandwidth       Total Datagrams\n",
      "[  4]   0.00-1.00   sec   524 MBytes  4396 Mbits/sec  67076  \n",
      "[  4]   1.00-2.00   sec   633 MBytes  5310 Mbits/sec  81030  \n",
      "[  4]   2.00-3.00   sec   564 MBytes  4734 Mbits/sec  72241  \n",
      "- - - - - - - - - - - - - - - - - - - - - - - - -\n",
      "[ ID] Interval           Transfer     Bandwidth       Jitter    Lost/Total Datagrams\n",
      "[  4]   0.00-3.00   sec  1.68 GBytes  4814 Mbits/sec  0.096 ms  174639/220257 (79%)  \n",
      "[  4] Sent 220257 datagrams\n",
      "\n",
      "iperf Done.\n",
      "\n",
      "Connecting to host 192.168.0.2, port 5201\n",
      "[  4] local 192.168.0.1 port 58778 connected to 192.168.0.2 port 5201\n",
      "[ ID] Interval           Transfer     Bandwidth       Total Datagrams\n",
      "[  4]   0.00-1.00   sec   628 MBytes  5267 Mbits/sec  80361  \n",
      "[  4]   1.00-2.00   sec   609 MBytes  5111 Mbits/sec  77991  \n",
      "[  4]   2.00-3.00   sec   691 MBytes  5794 Mbits/sec  88416  \n",
      "- - - - - - - - - - - - - - - - - - - - - - - - -\n",
      "[ ID] Interval           Transfer     Bandwidth       Jitter    Lost/Total Datagrams\n",
      "[  4]   0.00-3.00   sec  1.88 GBytes  5391 Mbits/sec  0.012 ms  178327/246768 (72%)  \n",
      "[  4] Sent 246768 datagrams\n",
      "\n",
      "iperf Done.\n",
      "\n",
      "Connecting to host 192.168.0.2, port 5201\n",
      "[  4] local 192.168.0.1 port 50947 connected to 192.168.0.2 port 5201\n",
      "[ ID] Interval           Transfer     Bandwidth       Total Datagrams\n",
      "[  4]   0.00-1.00   sec   668 MBytes  5604 Mbits/sec  85510  \n",
      "[  4]   1.00-2.00   sec   649 MBytes  5447 Mbits/sec  83108  \n",
      "[  4]   2.00-3.00   sec   681 MBytes  5714 Mbits/sec  87196  \n",
      "- - - - - - - - - - - - - - - - - - - - - - - - -\n",
      "[ ID] Interval           Transfer     Bandwidth       Jitter    Lost/Total Datagrams\n",
      "[  4]   0.00-3.00   sec  1.95 GBytes  5588 Mbits/sec  0.118 ms  235384/255744 (92%)  \n",
      "[  4] Sent 255744 datagrams\n",
      "\n",
      "iperf Done.\n",
      "\n",
      "Connecting to host 192.168.0.2, port 5201\n",
      "[  4] local 192.168.0.1 port 34817 connected to 192.168.0.2 port 5201\n",
      "[ ID] Interval           Transfer     Bandwidth       Total Datagrams\n",
      "[  4]   0.00-1.00   sec   629 MBytes  5275 Mbits/sec  80495  \n",
      "[  4]   1.00-2.00   sec   464 MBytes  3893 Mbits/sec  59402  \n",
      "[  4]   2.00-3.00   sec   817 MBytes  6855 Mbits/sec  104595  \n",
      "- - - - - - - - - - - - - - - - - - - - - - - - -\n",
      "[ ID] Interval           Transfer     Bandwidth       Jitter    Lost/Total Datagrams\n",
      "[  4]   0.00-3.00   sec  1.87 GBytes  5341 Mbits/sec  0.631 ms  186632/244477 (76%)  \n",
      "[  4] Sent 244477 datagrams\n",
      "\n",
      "iperf Done.\n",
      "\n",
      "Connecting to host 192.168.0.2, port 5201\n",
      "[  4] local 192.168.0.1 port 42146 connected to 192.168.0.2 port 5201\n",
      "[ ID] Interval           Transfer     Bandwidth       Total Datagrams\n",
      "[  4]   0.00-1.00   sec   503 MBytes  4219 Mbits/sec  64374  \n",
      "[  4]   1.00-2.00   sec   636 MBytes  5333 Mbits/sec  81374  \n",
      "[  4]   2.00-3.00   sec   693 MBytes  5812 Mbits/sec  88687  \n",
      "- - - - - - - - - - - - - - - - - - - - - - - - -\n",
      "[ ID] Interval           Transfer     Bandwidth       Jitter    Lost/Total Datagrams\n",
      "[  4]   0.00-3.00   sec  1.79 GBytes  5121 Mbits/sec  0.048 ms  189448/234234 (81%)  \n",
      "[  4] Sent 234234 datagrams\n",
      "\n",
      "iperf Done.\n",
      "\n",
      "Connecting to host 192.168.0.2, port 5201\n",
      "[  4] local 192.168.0.1 port 37704 connected to 192.168.0.2 port 5201\n",
      "[ ID] Interval           Transfer     Bandwidth       Total Datagrams\n",
      "[  4]   0.00-1.00   sec   611 MBytes  5123 Mbits/sec  78172  \n",
      "[  4]   1.00-2.00   sec   506 MBytes  4246 Mbits/sec  64788  \n",
      "[  4]   2.00-3.00   sec   635 MBytes  5330 Mbits/sec  81331  \n",
      "- - - - - - - - - - - - - - - - - - - - - - - - -\n",
      "[ ID] Interval           Transfer     Bandwidth       Jitter    Lost/Total Datagrams\n",
      "[  4]   0.00-3.00   sec  1.71 GBytes  4900 Mbits/sec  0.062 ms  172271/224078 (77%)  \n",
      "[  4] Sent 224078 datagrams\n",
      "\n",
      "iperf Done.\n",
      "\n"
     ]
    }
   ],
   "source": [
    "server_cmd = 'iperf3 -s -B '+machB_ip_local\n",
    "ssh = ssh_connect(machB_ip)\n",
    "start_new_thread(ssh_cmd,(server_cmd,ssh))\n",
    "\n",
    "bands = [10,100,1000,5000,9000]\n",
    "for b in bands:\n",
    "    for i in range(5):\n",
    "        sleep(1)\n",
    "        client_cmd = 'iperf3 -u -c '+machB_ip_local+' -t 3 -f m -b '+str(b)+'m'\n",
    "        local_cmd(client_cmd+' | grep \"%\" > /root/'+crsid+'/L50Lab1/13/exp13c_'+str(b)+'_'+str(i))\n",
    "        print(local_cmd(client_cmd))\n",
    "    \n",
    "ssh_cmd('pkill iperf', ssh)\n",
    "ssh.close()"
   ]
  },
  {
   "cell_type": "markdown",
   "metadata": {},
   "source": [
    "<font color='red'>TODO:</font> Plot a graph of percentage of packets dropped against bandwidth, with error bars."
   ]
  },
  {
   "cell_type": "code",
   "execution_count": 113,
   "metadata": {},
   "outputs": [
    {
     "data": {
      "image/png": "[encoded data removed]",
      "text/plain": [
       "<Figure size 432x288 with 1 Axes>"
      ]
     },
     "metadata": {
      "needs_background": "light"
     },
     "output_type": "display_data"
    }
   ],
   "source": [
    "bans,pcs = data_band('13/exp13c',crsid,bands)\n",
    "ys, yerr = graph_error(pcs)\n",
    "\n",
    "\n",
    "plt.errorbar(bands,ys,yerr=yerr)\n",
    "plt.show()"
   ]
  },
  {
   "cell_type": "code",
   "execution_count": null,
   "metadata": {},
   "outputs": [],
   "source": []
  }
 ],
 "metadata": {
  "kernelspec": {
   "display_name": "Python 3 (ipykernel)",
   "language": "python",
   "name": "python3"
  },
  "language_info": {
   "codemirror_mode": {
    "name": "ipython",
    "version": 3
   },
   "file_extension": ".py",
   "mimetype": "text/x-python",
   "name": "python",
   "nbconvert_exporter": "python",
   "pygments_lexer": "ipython3",
   "version": "3.9.7"
  }
 },
 "nbformat": 4,
 "nbformat_minor": 2
}
