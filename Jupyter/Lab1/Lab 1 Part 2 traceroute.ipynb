{
 "cells": [
  {
   "cell_type": "markdown",
   "metadata": {},
   "source": [
    "This is the second part of the first lab.\n",
    "\n",
    "The setup remains the same as in the first part, and the following is included only in case this part is not conducted immendately after the first part.\n",
    "\n",
    "###### Setup:  \n",
    "-- Insert transceiver in intl0 (B).    \n",
    "-- `rmmod ixgbe && modprobe ixgbe allow_unsupported_sfp=1` (Machine B)   \n",
    "-- `ifconfig intl0 192.168.0.2` (Machine B)  \n",
    "-- `ifconfig slf0 192.168.0.1` (Machine A)  \n",
    "-- `ssh-add` (Machine A) #if it fails, run first: eval `ssh-agent -s`  \n",
    "-- `mkdir /root/<crsid>` (Machine A, replace <crsid> with your crsid) \n",
    "  \n",
    "-- `cd /root/<crsid>` Machine A)  \n",
    "-- `git clone http://github.com/cucl-srg/L50` (Machine A)  \n",
    "-- `/root/L50/setup/mkdir1.sh <crsid>`. (Machine A)   \n",
    "-- Connect slf0 (A) to intl0 (B)  \n",
    "<img src=\"alt_setup1.jpg\">  "
   ]
  },
  {
   "cell_type": "code",
   "execution_count": 1,
   "metadata": {},
   "outputs": [],
   "source": [
    "crsid='jlf60' #your crsid\n",
    "%run /root/$crsid/L50/Jupyter/useful/useful.py\n",
    "%run /root/$crsid/L50/Jupyter/useful/useful1.py\n",
    "%matplotlib inline\n",
    "machB_ip = '128.232.82.64'\n",
    "machA_ip = '128.232.82.63'# XXX REPLACE THIS WITH THE IP of the host 128.232.XXX.YYY"
   ]
  },
  {
   "cell_type": "markdown",
   "metadata": {},
   "source": [
    "# 2. traceroute"
   ]
  },
  {
   "cell_type": "markdown",
   "metadata": {},
   "source": [
    "ping only measures the round-trip time between the source and destination. If the destination is unreachable, it could be due to a failure of any node or link on the route taken.   \n",
    "    \n",
    "traceroute reports the route that a packet takes across an IP network, and measures round-trip times of every hop. If the connection is lost along a certain hop, then we can isolate the failure between two nodes.  \n",
    "  \n",
    "###### Usage:    \n",
    "  \n",
    "`traceroute <address> [Optional: -I]`  \n",
    "-I = use ICMP Echo Request packets. If unspecified, use UDP packets. -I may be needed if UDP packets are blocked by a node.    "
   ]
  },
  {
   "cell_type": "markdown",
   "metadata": {},
   "source": [
    "### Experiment 6"
   ]
  },
  {
   "cell_type": "markdown",
   "metadata": {},
   "source": [
    "<font color='red'>TODO:</font> Traceroute from machine A to B, finding 2 different routes."
   ]
  },
  {
   "cell_type": "code",
   "execution_count": 3,
   "metadata": {},
   "outputs": [
    {
     "name": "stdout",
     "output_type": "stream",
     "text": [
      "traceroute to 128.232.82.64 (128.232.82.64), 30 hops max, 60 byte packets\r\n",
      " 1  nf-test104.nf.cl.cam.ac.uk (128.232.82.64)  0.129 ms  0.118 ms  0.116 ms\r\n"
     ]
    }
   ],
   "source": [
    "!traceroute 128.232.82.64"
   ]
  },
  {
   "cell_type": "code",
   "execution_count": 10,
   "metadata": {},
   "outputs": [
    {
     "name": "stdout",
     "output_type": "stream",
     "text": [
      "traceroute to 192.168.0.2 (192.168.0.2), 30 hops max, 60 byte packets\r\n",
      " 1  192.168.0.2 (192.168.0.2)  0.293 ms  0.245 ms  0.224 ms\r\n"
     ]
    }
   ],
   "source": [
    "!traceroute 192.168.0.2"
   ]
  },
  {
   "cell_type": "markdown",
   "metadata": {},
   "source": [
    "### Experiment 7\n",
    "Traceroute from Machine A to different addresses."
   ]
  },
  {
   "cell_type": "markdown",
   "metadata": {},
   "source": [
    "<font color='red'>TODO:</font> Traceroute to 8.8.8.8."
   ]
  },
  {
   "cell_type": "code",
   "execution_count": 8,
   "metadata": {},
   "outputs": [
    {
     "name": "stdout",
     "output_type": "stream",
     "text": [
      "traceroute to 8.8.8.8 (8.8.8.8), 30 hops max, 60 byte packets\n",
      " 1  vlan296.gatwick.net.cl.cam.ac.uk (128.232.82.2)  1.276 ms  1.806 ms  2.342 ms\n",
      " 2  cl-wgb.d-mw.net.cam.ac.uk (193.60.89.5)  0.172 ms  0.176 ms  0.328 ms\n",
      " 3  d-mw.c-hi.net.cam.ac.uk (131.111.7.53)  0.557 ms  0.701 ms  0.865 ms\n",
      " 4  c-hi.b-ec.net.cam.ac.uk (131.111.7.82)  0.308 ms  0.316 ms  0.483 ms\n",
      " 5  ae0.lowdss-ban1.ja.net (146.97.41.37)  2.570 ms  2.571 ms  2.595 ms\n",
      " 6  ae26.lowdss-sbr1.ja.net (146.97.35.245)  2.621 ms  2.608 ms  2.594 ms\n",
      " 7  ae31.londtw-sbr2.ja.net (146.97.33.30)  5.948 ms  6.062 ms  5.926 ms\n",
      " 8  ae28.londtt-sbr1.ja.net (146.97.33.61)  5.949 ms  5.906 ms  5.748 ms\n",
      " 9  72.14.205.74 (72.14.205.74)  5.899 ms  5.838 ms  6.964 ms\n",
      "10  108.170.246.161 (108.170.246.161)  6.853 ms 74.125.242.65 (74.125.242.65)  6.948 ms 108.170.246.129 (108.170.246.129)  5.844 ms\n",
      "11  142.251.52.149 (142.251.52.149)  6.597 ms 142.251.52.151 (142.251.52.151)  6.712 ms 142.250.215.125 (142.250.215.125)  6.545 ms\n",
      "12  dns.google (8.8.8.8)  6.528 ms  5.832 ms  6.540 ms\n"
     ]
    }
   ],
   "source": [
    "!traceroute 8.8.8.8"
   ]
  },
  {
   "cell_type": "markdown",
   "metadata": {},
   "source": [
    "<font color='red'>TODO:</font> Traceroute to munnari.oz.au."
   ]
  },
  {
   "cell_type": "code",
   "execution_count": 10,
   "metadata": {
    "scrolled": false
   },
   "outputs": [
    {
     "name": "stdout",
     "output_type": "stream",
     "text": [
      "traceroute to munnari.oz.au (202.29.151.3), 30 hops max, 60 byte packets\n",
      " 1  vlan296.gatwick.net.cl.cam.ac.uk (128.232.82.2)  1.915 ms  2.424 ms  4.067 ms\n",
      " 2  cl-wgb.d-mw.net.cam.ac.uk (193.60.89.5)  0.145 ms  0.153 ms  0.330 ms\n",
      " 3  d-mw.c-ce.net.cam.ac.uk (131.111.6.53)  0.302 ms  0.304 ms  0.401 ms\n",
      " 4  c-ce.b-ec.net.cam.ac.uk (131.111.6.82)  0.549 ms  0.548 ms  0.542 ms\n",
      " 5  ae0.lowdss-ban1.ja.net (146.97.41.37)  2.639 ms  2.635 ms  2.624 ms\n",
      " 6  ae26.lowdss-sbr1.ja.net (146.97.35.245)  2.762 ms  2.715 ms  2.693 ms\n",
      " 7  ae28.londhx-sbr1.ja.net (146.97.33.17)  5.982 ms  5.972 ms  5.959 ms\n",
      " 8  janet.mx1.lon.uk.geant.net (62.40.124.197)  6.196 ms  6.520 ms  6.511 ms\n",
      " 9  202.179.249.33 (202.179.249.33)  169.508 ms  172.875 ms  169.185 ms\n",
      "10  202.179.249.66 (202.179.249.66)  195.666 ms  195.658 ms  195.652 ms\n",
      "11  pyt-to-02-bdr-pyt-link-1.uni.net.th (202.29.12.10)  195.646 ms  195.632 ms  195.622 ms\n",
      "12  202.28.218.5 (202.28.218.5)  197.140 ms  197.120 ms  196.955 ms\n",
      "13  * * *\n",
      "14  * * *\n",
      "15  * * *\n",
      "16  * * *\n",
      "17  202.28.221.22 (202.28.221.22)  281.007 ms  281.010 ms  281.293 ms\n",
      "18  * * *\n",
      "19  * * *\n",
      "20  * * *\n",
      "21  * * *\n",
      "22  202.12.73.119 (202.12.73.119)  290.834 ms  291.193 ms  291.004 ms\n",
      "23  coe-gw.psu.ac.th (202.29.149.70)  322.954 ms  322.938 ms  322.918 ms\n",
      "24  munnari.OZ.AU (202.29.151.3)  282.976 ms  281.035 ms  281.490 ms\n"
     ]
    }
   ],
   "source": [
    "!traceroute munnari.oz.au"
   ]
  },
  {
   "cell_type": "markdown",
   "metadata": {},
   "source": [
    "<font color='red'>TODO:</font> Traceroute to gateway address."
   ]
  },
  {
   "cell_type": "code",
   "execution_count": 9,
   "metadata": {
    "scrolled": true
   },
   "outputs": [
    {
     "name": "stdout",
     "output_type": "stream",
     "text": [
      "default via 128.232.82.1 dev eth0 onlink \r\n"
     ]
    }
   ],
   "source": [
    "!ip route | grep default #This command will provide you the gateway address"
   ]
  },
  {
   "cell_type": "code",
   "execution_count": 4,
   "metadata": {
    "scrolled": true
   },
   "outputs": [
    {
     "name": "stdout",
     "output_type": "stream",
     "text": [
      "traceroute to 128.232.82.1 (128.232.82.1), 30 hops max, 60 byte packets\n",
      " 1  * * *\n",
      " 2  * * *\n",
      " 3  * * *\n",
      " 4  * * *\n",
      " 5  * * *\n",
      " 6  * * *\n",
      " 7  * * *\n",
      " 8  * * *\n",
      " 9  * * *\n",
      "10  * * *\n",
      "11  * * *\n",
      "12  * * *\n",
      "13  * * *\n",
      "14  * * *\n",
      "15  * * *\n",
      "16  * * *\n",
      "17  * * *\n",
      "18  * * *\n",
      "19  * * *\n",
      "20  * * *\n",
      "21  * * *\n",
      "22  * * *\n",
      "23  * * *\n",
      "24  * * *\n",
      "25  * * *\n",
      "26  * * *\n",
      "27  * * *\n",
      "28  * * *\n",
      "29  * * *\n",
      "30  * * *\n"
     ]
    }
   ],
   "source": [
    "!traceroute 128.232.82.1"
   ]
  },
  {
   "cell_type": "markdown",
   "metadata": {},
   "source": [
    "Gateway not returning ICMP packets, so traceroute cannot find gateway"
   ]
  },
  {
   "cell_type": "markdown",
   "metadata": {},
   "source": [
    "### Experiment 8\n",
    "Traceroute from a non-lab machine to different addresses."
   ]
  },
  {
   "cell_type": "markdown",
   "metadata": {},
   "source": [
    "<font color='red'>TODO:</font> Traceroute to 8.8.8.8."
   ]
  },
  {
   "cell_type": "markdown",
   "metadata": {},
   "source": [
    "traceroute to 8.8.8.8 (8.8.8.8), 30 hops max, 60 byte packets\n",
    " 1  _gateway (192.168.188.57)  34.953 ms  32.146 ms  32.239 ms\n",
    " 2  * * *\n",
    " 3  192.168.213.21 (192.168.213.21)  73.525 ms  76.441 ms  63.899 ms\n",
    " 4  192.168.213.22 (192.168.213.22)  73.376 ms  76.298 ms  73.250 ms\n",
    " 5  * * *\n",
    " 6  * * *\n",
    " 7  63.130.104.194 (63.130.104.194)  41.935 ms  52.607 ms  43.468 ms\n",
    " 8  195.66.236.125 (195.66.236.125)  43.488 ms 90.255.251.93 (90.255.251.93)  43.256 ms 195.66.236.125 (195.66.236.125)  40.672 ms\n",
    " 9  108.170.246.129 (108.170.246.129)  41.799 ms  43.753 ms 74.125.242.65 (74.125.242.65)  46.781 ms\n",
    "10  216.239.63.219 (216.239.63.219)  46.338 ms 142.251.52.143 (142.251.52.143)  50.360 ms 172.253.66.87 (172.253.66.87)  48.956 ms\n",
    "11  dns.google (8.8.8.8)  50.278 ms  48.674 ms  53.861 ms\n"
   ]
  },
  {
   "cell_type": "markdown",
   "metadata": {},
   "source": [
    "<font color='red'>TODO:</font> Traceroute to munnari.oz.au."
   ]
  },
  {
   "cell_type": "markdown",
   "metadata": {},
   "source": [
    "traceroute to munnari.oz.au (202.29.151.3), 30 hops max, 60 byte packets\n",
    " 1  _gateway (192.168.188.57)  5.911 ms  6.252 ms  6.036 ms\n",
    " 2  * * *\n",
    " 3  192.168.213.21 (192.168.213.21)  49.457 ms  44.801 ms  44.892 ms\n",
    " 4  192.168.213.22 (192.168.213.22)  49.427 ms  49.529 ms  49.631 ms\n",
    " 5  * * *\n",
    " 6  * * *\n",
    " 7  63.130.104.194 (63.130.104.194)  43.689 ms  45.163 ms  44.994 ms\n",
    " 8  ae13-100-xcr1.ltw.cw.net (195.2.23.77)  41.487 ms  54.147 ms  53.953 ms\n",
    " 9  ae32-xcr1.lns.cw.net (195.2.24.126)  49.879 ms  44.924 ms  46.923 ms\n",
    "10  cat-gw-xcr1.lns.cw.net (195.59.77.14)  41.824 ms  52.217 ms  48.859 ms\n",
    "11  61.19.9.221 (61.19.9.221)  228.959 ms 61.19.9.225 (61.19.9.225)  256.831 ms 61.19.9.165 (61.19.9.165)  256.853 ms\n",
    "12  61.19.7.82 (61.19.7.82)  245.048 ms 61.19.7.10 (61.19.7.10)  246.812 ms  240.600 ms\n",
    "13  122.155.226.54 (122.155.226.54)  228.656 ms 122.155.226.38 (122.155.226.38)  248.555 ms 122.155.226.14 (122.155.226.14)  225.538 ms\n",
    "14  202.47.236.1 (202.47.236.1)  269.703 ms  213.331 ms  253.233 ms\n",
    "15  202.47.238.58 (202.47.238.58)  246.682 ms  246.726 ms 202.47.236.198 (202.47.236.198)  238.860 ms\n",
    "16  202.129.30.6 (202.129.30.6)  242.183 ms  248.743 ms  260.963 ms\n",
    "17  122.154.52.50 (122.154.52.50)  261.083 ms *  261.168 ms\n",
    "18  * * *\n",
    "19  * * *\n",
    "20  coe-gw.psu.ac.th (202.29.149.70)  270.946 ms * *\n",
    "21  * * *\n",
    "22  202.12.73.1 (202.12.73.1)  270.028 ms munnari.OZ.AU (202.29.151.3)  270.016 ms 202.12.73.1 (202.12.73.1)  269.845 ms\n"
   ]
  },
  {
   "cell_type": "markdown",
   "metadata": {},
   "source": [
    "<font color='red'>TODO:</font> Traceroute to gateway address identified in experiment 7."
   ]
  },
  {
   "cell_type": "markdown",
   "metadata": {},
   "source": [
    "traceroute to 128.232.82.1 (128.232.82.1), 30 hops max, 60 byte packets\n",
    " 1  _gateway (192.168.188.57)  2.296 ms  2.352 ms  4.326 ms\n",
    " 2  * * *\n",
    " 3  192.168.213.21 (192.168.213.21)  54.434 ms  54.318 ms  54.309 ms\n",
    " 4  192.168.213.22 (192.168.213.22)  54.403 ms  54.621 ms  54.499 ms\n",
    " 5  * * *\n",
    " 6  * * *\n",
    " 7  63.130.104.194 (63.130.104.194)  50.496 ms  50.135 ms  50.094 ms\n",
    " 8  linx-gw1.ja.net (195.66.224.15)  50.178 ms  51.829 ms  51.677 ms\n",
    " 9  ae23.londtt-sbr1.ja.net (146.97.35.169)  49.890 ms  49.822 ms  52.290 ms\n",
    "10  ae28.londtw-sbr2.ja.net (146.97.33.62)  39.908 ms  52.144 ms  56.839 ms\n",
    "11  ae31.lowdss-sbr1.ja.net (146.97.33.29)  67.329 ms  65.893 ms  50.705 ms\n",
    "12  ae26.lowdss-ban1.ja.net (146.97.35.246)  42.270 ms  40.629 ms  77.290 ms\n",
    "13  uoc.ja.net (146.97.41.38)  77.173 ms  72.675 ms  62.263 ms\n",
    "14  b-ec.c-hi.net.cam.ac.uk (131.111.7.81)  62.334 ms  47.527 ms  43.547 ms\n",
    "15  c-hi.d-we.net.cam.ac.uk (131.111.7.14)  46.109 ms c-hi.d-mw.net.cam.ac.uk (131.111.7.54)  57.322 ms  57.532 ms\n",
    "16  * * *\n",
    "17  * * *\n",
    "18  * * *\n",
    "19  * * *\n",
    "20  * * *\n",
    "21  * * *\n",
    "22  * * *\n",
    "23  * * *\n",
    "24  * * *\n",
    "25  * * *\n",
    "26  * * *\n",
    "27  * * *\n",
    "28  * * *\n",
    "29  * * *\n",
    "30  * * *"
   ]
  }
 ],
 "metadata": {
  "kernelspec": {
   "display_name": "Python 3 (ipykernel)",
   "language": "python",
   "name": "python3"
  },
  "language_info": {
   "codemirror_mode": {
    "name": "ipython",
    "version": 3
   },
   "file_extension": ".py",
   "mimetype": "text/x-python",
   "name": "python",
   "nbconvert_exporter": "python",
   "pygments_lexer": "ipython3",
   "version": "3.9.7"
  }
 },
 "nbformat": 4,
 "nbformat_minor": 2
}
