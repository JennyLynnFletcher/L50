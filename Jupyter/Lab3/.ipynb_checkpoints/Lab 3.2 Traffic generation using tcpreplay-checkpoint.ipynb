{
 "cells": [
  {
   "cell_type": "markdown",
   "metadata": {},
   "source": [
    "In this experiment you will generate traffic using tcpreplay and capture it with DAG.  \n",
    "###### Setup:  \n",
    "-- `rmmod ixgbe && modprobe ixgbe allow_supported_sfp=1`   \n",
    "-- `ifconfig intl0 up && ifconfig intl1 up` (Machine B)  \n",
    "-- `ifconfig slf0 up` (Machine A)  \n",
    "-- `ssh-add` (Machine A)  \n",
    "-- `dagload`  (Machine A)  \n",
    "-- Connect intl0 (B) to dag0 (A).       \n",
    "-- Connect intl1 (B) to slf0 (A).       \n",
    "<img src=\"alt_setup3.2.jpg\">"
   ]
  },
  {
   "cell_type": "markdown",
   "metadata": {},
   "source": [
    "tcpreplay takes a pcap file along with other parameters, to determine how to replay traffic.\n",
    "\n",
    "###### Usage:   \n",
    "`tcpreplay -i <interface> -l <replay number> --preload-pcap [Optional: -t] [Optional: -p <packets/sec>] blah.pcap`  \n",
    "NB -t means max speed and is not to be used in conjuction with -p.  \n",
    "  \n",
    "Eg. Replay blah.pcap 20 times on intl1, at 20000 packets/sec.  \n",
    "`tcpreplay -i intl1 -l 20 --preload-pcap -p 20000 blah.pcap`"
   ]
  },
  {
   "cell_type": "code",
   "execution_count": 1,
   "metadata": {},
   "outputs": [],
   "source": [
    "crsid='jlf60'\n",
    "%run /root/$crsid/L50/Jupyter/useful/useful.py\n",
    "% run /root/$crsid/L50/Jupyter/useful/useful3.py\n",
    "%matplotlib inline\n",
    "machB_ip = '128.232.82.64' # REPLACE THIS"
   ]
  },
  {
   "cell_type": "markdown",
   "metadata": {},
   "source": [
    "The function `send` will be used throughout this Notebook:  \n",
    "Generate traffic from the NIC (Machine B) using tcpreplay. Traffic to the DAG card (Machine A) is captured to a .erf file. One summary line for each packet received is written to a .txt file. Check that these are correctly saved to L50Lab3/3.2.   \n"
   ]
  },
  {
   "cell_type": "code",
   "execution_count": 2,
   "metadata": {},
   "outputs": [],
   "source": [
    "def send(exp,size,num,pps=0):\n",
    "    # size = packet size in bytes\n",
    "    # num = no of packets to send\n",
    "    # pps = sending rate in packets/sec\n",
    "    \n",
    "    dag_cmd = shlex.split('dagsnap -d0 -o /root/'+crsid+'/L50Lab3/3.2/'+exp+'.erf')\n",
    "    p = Popen(dag_cmd) # start capture\n",
    "    sleep(2)\n",
    "    pps_cmd = ' -t'\n",
    "    if (pps != 0):\n",
    "        pps_cmd = ' -p ' + str(pps)\n",
    "    play_cmd = ('tcpreplay -i intl0 -l '+str(num)+pps_cmd+' --preload-pcap '\n",
    "                '/root/'+crsid+'/L50/pcap_files/'+str(size)+'.cap')\n",
    "    ssh = ssh_connect(machB_ip)\n",
    "    ssh_cmd(play_cmd, ssh) # generate traffic\n",
    "    sleep(2)\n",
    "    ssh.close()\n",
    "    p.kill() # end capture\n",
    "    sleep(2)\n",
    "    local_cmd('tshark -r /root/'+crsid+'/L50Lab3/3.2/'+exp+'.erf > /root/'+crsid+'/L50Lab3/3.2/'+exp+'.txt') # write summary lines"
   ]
  },
  {
   "cell_type": "markdown",
   "metadata": {},
   "source": [
    "## Experiment a"
   ]
  },
  {
   "cell_type": "markdown",
   "metadata": {},
   "source": [
    "Send 1000 packets, size 512B. See that all the packets arrive."
   ]
  },
  {
   "cell_type": "code",
   "execution_count": 18,
   "metadata": {},
   "outputs": [],
   "source": [
    "send('exp2a',512,1000)"
   ]
  },
  {
   "cell_type": "code",
   "execution_count": 19,
   "metadata": {},
   "outputs": [
    {
     "name": "stdout",
     "output_type": "stream",
     "text": [
      "Packets received: 1000\n"
     ]
    }
   ],
   "source": [
    "num_pkts = sum(1 for line in open('/root/'+crsid+'/L50Lab3/3.2/exp2a.txt') if line)\n",
    "print \"Packets received: \" + str(num_pkts)"
   ]
  },
  {
   "cell_type": "markdown",
   "metadata": {
    "collapsed": true
   },
   "source": [
    "## Experiment b"
   ]
  },
  {
   "cell_type": "markdown",
   "metadata": {},
   "source": [
    "Send 100000 packets, size 512B. See that all the packets arrive. What is the captured packet rate?"
   ]
  },
  {
   "cell_type": "code",
   "execution_count": 16,
   "metadata": {},
   "outputs": [],
   "source": [
    "send('exp2b',512,10000)"
   ]
  },
  {
   "cell_type": "code",
   "execution_count": 17,
   "metadata": {},
   "outputs": [
    {
     "name": "stdout",
     "output_type": "stream",
     "text": [
      "Packets received: 10000\n",
      "Packets per second: 263394\n"
     ]
    }
   ],
   "source": [
    "num_pkts = sum(1 for line in open('/root/'+crsid+'/L50Lab3/3.2/exp2b.txt') if line)\n",
    "print \"Packets received: \" + str(num_pkts)\n",
    "\n",
    "deltas = getdeltas('3.2/exp2b',crsid,10000)\n",
    "pps = int(floor(1.0 / np.average(deltas) * 1000000))\n",
    "print \"Packets per second: \" + str(pps)"
   ]
  },
  {
   "cell_type": "markdown",
   "metadata": {},
   "source": [
    "## Experiment c"
   ]
  },
  {
   "cell_type": "markdown",
   "metadata": {},
   "source": [
    "Send 10000 packets, size 1024B / 512B / 64B. What is the maximum packet rate supported by the tool? what is the  bandwidth? What is the effect of line coding (64b/66b)?"
   ]
  },
  {
   "cell_type": "markdown",
   "metadata": {},
   "source": [
    "Bandwidth and packet rate reduce as packet size reduces this is due to some overhead (probably reading from disk) increases as packet size reduces. This means bandwidth is limited by the tool rather than the link"
   ]
  },
  {
   "cell_type": "code",
   "execution_count": 3,
   "metadata": {},
   "outputs": [],
   "source": [
    "def rate(exp,size,num):\n",
    "    deltas = getdeltas(exp,crsid,num)\n",
    "    rt = (size+20+4)*8/ np.average(deltas)\n",
    "    pps = int(floor(1.0 / np.average(deltas) * 1000000))\n",
    "    print \"Packets per second: \" + str(pps)\n",
    "    print \"BW: \" + str(rt) + \" Mbits/sec\" "
   ]
  },
  {
   "cell_type": "markdown",
   "metadata": {},
   "source": [
    "### 1024B"
   ]
  },
  {
   "cell_type": "code",
   "execution_count": 22,
   "metadata": {},
   "outputs": [],
   "source": [
    "send('exp2c1',1024,10000)"
   ]
  },
  {
   "cell_type": "code",
   "execution_count": 23,
   "metadata": {
    "scrolled": true
   },
   "outputs": [
    {
     "name": "stdout",
     "output_type": "stream",
     "text": [
      "Packets per second: 267063\n",
      "BW: 2239.0588174963195 Mbits/sec\n"
     ]
    }
   ],
   "source": [
    "rate('3.2/exp2c1',1024,10000)"
   ]
  },
  {
   "cell_type": "markdown",
   "metadata": {},
   "source": [
    "### 512B"
   ]
  },
  {
   "cell_type": "code",
   "execution_count": 6,
   "metadata": {},
   "outputs": [],
   "source": [
    "send('exp2c2',512,10000)"
   ]
  },
  {
   "cell_type": "code",
   "execution_count": 7,
   "metadata": {},
   "outputs": [
    {
     "name": "stdout",
     "output_type": "stream",
     "text": [
      "Packets per second: 209693\n",
      "BW: 899.166962644097 Mbits/sec\n"
     ]
    }
   ],
   "source": [
    "rate('3.2/exp2c2',512,10000)"
   ]
  },
  {
   "cell_type": "markdown",
   "metadata": {},
   "source": [
    "### 64B"
   ]
  },
  {
   "cell_type": "code",
   "execution_count": 8,
   "metadata": {},
   "outputs": [],
   "source": [
    "send('exp2c3',64,10000)"
   ]
  },
  {
   "cell_type": "code",
   "execution_count": 9,
   "metadata": {
    "scrolled": true
   },
   "outputs": [
    {
     "name": "stdout",
     "output_type": "stream",
     "text": [
      "Packets per second: 184193\n",
      "BW: 129.6718781799498 Mbits/sec\n"
     ]
    }
   ],
   "source": [
    "rate('3.2/exp2c3',64,10000)"
   ]
  },
  {
   "cell_type": "markdown",
   "metadata": {},
   "source": [
    "## Experiment d"
   ]
  },
  {
   "cell_type": "markdown",
   "metadata": {},
   "source": [
    "Send 10000 packets, size 512B, 100 Mbits/sec (ignore line coding). What is the measured traffic throughput?"
   ]
  },
  {
   "cell_type": "code",
   "execution_count": 10,
   "metadata": {},
   "outputs": [
    {
     "name": "stdout",
     "output_type": "stream",
     "text": [
      "Expected bandwidth: 103.872512 Mbits/sec\n"
     ]
    }
   ],
   "source": [
    "pps = 100000000 / ((512+4)*8)\n",
    "bw = ((512+4+20)* 8* pps) / 1000000.0\n",
    "print \"Expected bandwidth: \" + str(bw) + \" Mbits/sec\"\n",
    "send('exp2d',512,10000,pps)"
   ]
  },
  {
   "cell_type": "code",
   "execution_count": 12,
   "metadata": {
    "scrolled": false
   },
   "outputs": [
    {
     "name": "stdout",
     "output_type": "stream",
     "text": [
      "Packets per second: 21486\n",
      "BW: 92.13475415894638 Mbits/sec\n"
     ]
    }
   ],
   "source": [
    "rate('3.2/exp2d',512,10000)"
   ]
  },
  {
   "cell_type": "markdown",
   "metadata": {},
   "source": [
    "## Experiment e"
   ]
  },
  {
   "cell_type": "markdown",
   "metadata": {},
   "source": [
    "What is the distribution of inter-arrival time of experiment d?"
   ]
  },
  {
   "cell_type": "markdown",
   "metadata": {},
   "source": [
    "Plot the CDF of inter-arrival time."
   ]
  },
  {
   "cell_type": "code",
   "execution_count": 13,
   "metadata": {},
   "outputs": [
    {
     "data": {
      "image/png": "[encoded data removed]",
      "text/plain": [
       "<Figure size 432x288 with 1 Axes>"
      ]
     },
     "metadata": {
      "needs_background": "light"
     },
     "output_type": "display_data"
    }
   ],
   "source": [
    "deltas = getdeltas('3.2/exp2d', crsid,10000)\n",
    "values, base = np.histogram(deltas, bins=100)\n",
    "cumulative = np.cumsum(values/9999.0)\n",
    "plt.plot(base[:-1], cumulative)\n",
    "plt.ylabel(\"Cumulative probability\")\n",
    "plt.xlabel(\"Inter-arrival time (us)\")\n",
    "plt.show()"
   ]
  },
  {
   "cell_type": "markdown",
   "metadata": {},
   "source": [
    "## Experiment f"
   ]
  },
  {
   "cell_type": "markdown",
   "metadata": {},
   "source": [
    "Send 10000 packets, size 512B, intl0 (B) to dag0 (A), intl1  (B) to slf0 (A), 100 Mbits/sec. What is the distribution of inter-arrival time?"
   ]
  },
  {
   "cell_type": "code",
   "execution_count": 14,
   "metadata": {
    "scrolled": true
   },
   "outputs": [],
   "source": [
    "%%capture\n",
    "dag_cmd = shlex.split('dagsnap -d0 -o /root/'+crsid+'/L50Lab3/3.2/exp2f.erf')\n",
    "p = Popen(dag_cmd) # start capture\n",
    "\n",
    "sleep(2)\n",
    "\n",
    "play_cmd1 = ('tcpreplay -i intl0 -l 10000 -p '+str(pps)+' --preload-pcap '\n",
    "            '/root/'+crsid+'/L50/pcap_files/512.cap')\n",
    "play_cmd2 = ('tcpreplay -i intl1 -l 10000 -p '+str(pps)+' --preload-pcap '\n",
    "            '/root/'+crsid+'/L50/pcap_files/512.cap')\n",
    "ssh = ssh_connect(machB_ip)\n",
    "start_new_thread(ssh_cmd,(play_cmd1,ssh)) # generate traffic\n",
    "start_new_thread(ssh_cmd,(play_cmd2,ssh)) # generate traffic\n",
    "\n",
    "sleep(10)\n",
    "\n",
    "ssh.close()\n",
    "p.kill() # end capture\n",
    "sleep(2)"
   ]
  },
  {
   "cell_type": "markdown",
   "metadata": {},
   "source": [
    "Plot the CDF of inter-arrival time."
   ]
  },
  {
   "cell_type": "code",
   "execution_count": 15,
   "metadata": {},
   "outputs": [
    {
     "data": {
      "image/png": "[encoded data removed]",
      "text/plain": [
       "<Figure size 432x288 with 1 Axes>"
      ]
     },
     "metadata": {
      "needs_background": "light"
     },
     "output_type": "display_data"
    }
   ],
   "source": [
    "deltas2 = getdeltas('3.2/exp2f',crsid, 10000)\n",
    "values, base = np.histogram(deltas2, bins=100)\n",
    "cumulative = np.cumsum(values/9999.0)\n",
    "plt.plot(base[:-1], cumulative)\n",
    "plt.ylabel(\"Cumulative probability\")\n",
    "plt.xlabel(\"Inter-arrival time (us)\")\n",
    "plt.show()"
   ]
  },
  {
   "cell_type": "code",
   "execution_count": null,
   "metadata": {},
   "outputs": [],
   "source": []
  }
 ],
 "metadata": {
  "kernelspec": {
   "display_name": "Python 2",
   "language": "python",
   "name": "python2"
  },
  "language_info": {
   "codemirror_mode": {
    "name": "ipython",
    "version": 2
   },
   "file_extension": ".py",
   "mimetype": "text/x-python",
   "name": "python",
   "nbconvert_exporter": "python",
   "pygments_lexer": "ipython2",
   "version": "2.7.12"
  }
 },
 "nbformat": 4,
 "nbformat_minor": 2
}
