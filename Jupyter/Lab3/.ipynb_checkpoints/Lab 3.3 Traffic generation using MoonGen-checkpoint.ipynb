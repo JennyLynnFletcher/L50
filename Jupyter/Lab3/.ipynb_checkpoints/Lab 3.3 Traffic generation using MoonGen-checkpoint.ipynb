{
 "cells": [
  {
   "cell_type": "markdown",
   "metadata": {},
   "source": [
    "In this experiment you will generate traffic using MoonGen and capture it with DAG.  \n",
    "###### Setup:  \n",
    "\n",
    "-- `bash /root/<crsid>/L50/setup/moon_setup.sh` (Machine B)  \n",
    "-- `ssh-add` (Machine A)   \n",
    "-- `dagload`  (Machine A)   \n",
    "-- `ifconfig slf0 up` (Machine A)  \n",
    "-- Connect intl0 (B) to dag0 (A).     \n",
    "-- Connect intl1 (B) to slf0 (A).        \n",
    "<img src=\"alt_setup3.3.jpg\">"
   ]
  },
  {
   "cell_type": "markdown",
   "metadata": {},
   "source": [
    "MoonGen takes a script as an argument, which specifies how packets are to be sent. Here is the <a href=\"https://www.net.in.tum.de/fileadmin/TUM/NET/NET-2016-07-1/NET-2016-07-1_06.pdf\">tutorial</a> on writing custom scripts. There is a prepared script L50/Jupyter/useful/generator.lua to use for this experiment. \n",
    "  \n",
    "###### Usage:   \n",
    "`moongen/build/MoonGen  L50/Jupyter/useful/generator.lua  <number of ports>  <rate (Mbits/sec)>  <iterations>  <packet size (bytes)>`  \n",
    "NB. Each iteration is 100 packets. You can change this in generator.lua.   \n",
    "NB. To send as fast as possible, set rate as 10000.   \n",
    "NB. You can send on 1 or 2 ports.  \n",
    "\n",
    "Eg. Send 500,000 512B packets at rate 10 Mbits/sec on 1 port.  \n",
    "`moongen/build/MoonGen L50/Jupyter/useful/generator.lua 1 10 5000 512`  "
   ]
  },
  {
   "cell_type": "code",
   "execution_count": 1,
   "metadata": {},
   "outputs": [],
   "source": [
    "crsid='jlf60'\n",
    "%run /root/$crsid/L50/Jupyter/useful/useful.py\n",
    "%run /root/$crsid/L50/Jupyter/useful/useful3.py\n",
    "%matplotlib inline\n",
    "machB_ip = '128.232.82.64' # REPLACE THIS"
   ]
  },
  {
   "cell_type": "markdown",
   "metadata": {},
   "source": [
    "The function `send` will be used throughout this Notebook:  \n",
    "Generate traffic from the NIC (Machine B) using MoonGen. Traffic to the DAG card (Machine A) is captured to a .erf file. One summary line for each packet received is written to a .txt file. Check that these are correctly saved to L50Lab3/3.3.  \n"
   ]
  },
  {
   "cell_type": "code",
   "execution_count": 2,
   "metadata": {},
   "outputs": [],
   "source": [
    "def send(exp,num,size,rate=10000,ports=1):\n",
    "    # num = no of packets to send\n",
    "    # size = packet size in bytes\n",
    "    # rate = sending rate in Mbits/sec\n",
    "    # ports = how many ports to send to\n",
    "    \n",
    "    dag_cmd = shlex.split('dagsnap -d0 -o /root/'+crsid+'/L50Lab3/3.3/'+exp+'.erf')\n",
    "    p = Popen(dag_cmd) # start capture\n",
    "    sleep(2)\n",
    "    play_cmd = ('/root/MoonGen/build/MoonGen /root/'+crsid+'/L50/Jupyter/useful/generator.lua '\n",
    "                +str(ports)+' '+str(rate)+' '+str(num/100)+' '+str(size))\n",
    "    ssh = ssh_connect(machB_ip)\n",
    "    ssh_cmd(play_cmd, ssh) # generate traffic\n",
    "    sleep(2)\n",
    "    ssh.close()\n",
    "    p.kill() # end capture\n",
    "    sleep(2)\n",
    "    local_cmd('tshark -r /root/'+crsid+'/L50Lab3/3.3/'+exp+'.erf > /root/'+crsid+'/L50Lab3/3.3/'+exp+'.txt') # write summary lines"
   ]
  },
  {
   "cell_type": "markdown",
   "metadata": {},
   "source": [
    "## Experiment a"
   ]
  },
  {
   "cell_type": "markdown",
   "metadata": {},
   "source": [
    "Send 1000 packets, size 512B. See that all the packets arrive."
   ]
  },
  {
   "cell_type": "code",
   "execution_count": 3,
   "metadata": {
    "scrolled": false
   },
   "outputs": [],
   "source": [
    "send('exp3a',1000, 512)"
   ]
  },
  {
   "cell_type": "code",
   "execution_count": 4,
   "metadata": {},
   "outputs": [
    {
     "name": "stdout",
     "output_type": "stream",
     "text": [
      "Packets received: 1000\n"
     ]
    }
   ],
   "source": [
    "num_pkts = sum(1 for line in open('/root/'+crsid+'/L50Lab3/3.3/exp3a.txt') if line)\n",
    "print \"Packets received: \" + str(num_pkts)"
   ]
  },
  {
   "cell_type": "markdown",
   "metadata": {
    "collapsed": true
   },
   "source": [
    "## Experiment b"
   ]
  },
  {
   "cell_type": "markdown",
   "metadata": {},
   "source": [
    "Send 100000 packets, size 512B. See that all the packets arrive. What is the captured packet rate?"
   ]
  },
  {
   "cell_type": "code",
   "execution_count": 5,
   "metadata": {},
   "outputs": [],
   "source": [
    "send('exp3b',100000, 512)"
   ]
  },
  {
   "cell_type": "code",
   "execution_count": 6,
   "metadata": {},
   "outputs": [
    {
     "name": "stdout",
     "output_type": "stream",
     "text": [
      "Packets received: 100000\n",
      "Packets per second: 2331002\n"
     ]
    }
   ],
   "source": [
    "num_pkts = sum(1 for line in open('/root/'+crsid+'/L50Lab3/3.3/exp3b.txt') if line)\n",
    "print \"Packets received: \" + str(num_pkts)\n",
    "\n",
    "deltas = getdeltas('3.3/exp3b',crsid,10000)\n",
    "pps = int(floor(1.0 / np.median(deltas) * 1000000))\n",
    "print \"Packets per second: \" + str(pps)"
   ]
  },
  {
   "cell_type": "markdown",
   "metadata": {},
   "source": [
    "## Experiment c"
   ]
  },
  {
   "cell_type": "markdown",
   "metadata": {},
   "source": [
    "Send 10000 packets, size 1024B / 512B / 64B. What is the maximum packet rate supported by the tool? what is the maximal bandwidth? What is the effect of line coding (64b/66b)?"
   ]
  },
  {
   "cell_type": "code",
   "execution_count": 7,
   "metadata": {},
   "outputs": [],
   "source": [
    "def rate(exp,size,num):\n",
    "    deltas = getdeltas(exp,crsid,num)\n",
    "    rt = (size+20+4)*8/ np.average(deltas)\n",
    "    pps = int(floor(1.0 / np.median(deltas) * 1000000))\n",
    "    print \"Packets per second: \" + str(pps)\n",
    "    print \"Rate: \" + str(rt) + \" Mbits/sec\" "
   ]
  },
  {
   "cell_type": "markdown",
   "metadata": {},
   "source": [
    "### 1024B"
   ]
  },
  {
   "cell_type": "code",
   "execution_count": 8,
   "metadata": {},
   "outputs": [],
   "source": [
    "send('exp3c1',10000,1024)"
   ]
  },
  {
   "cell_type": "code",
   "execution_count": 9,
   "metadata": {
    "scrolled": true
   },
   "outputs": [
    {
     "name": "stdout",
     "output_type": "stream",
     "text": [
      "Packets per second: 1190476\n",
      "Rate: 9999.820595964937 Mbits/sec\n"
     ]
    }
   ],
   "source": [
    "rate('3.3/exp3c1',1024,10000)"
   ]
  },
  {
   "cell_type": "markdown",
   "metadata": {},
   "source": [
    "### 512B"
   ]
  },
  {
   "cell_type": "code",
   "execution_count": 10,
   "metadata": {},
   "outputs": [],
   "source": [
    "send('exp3c2',10000,512)"
   ]
  },
  {
   "cell_type": "code",
   "execution_count": 11,
   "metadata": {
    "scrolled": true
   },
   "outputs": [
    {
     "name": "stdout",
     "output_type": "stream",
     "text": [
      "Packets per second: 2336448\n",
      "Rate: 9999.811551870345 Mbits/sec\n"
     ]
    }
   ],
   "source": [
    "rate('3.3/exp3c2',512,10000)"
   ]
  },
  {
   "cell_type": "markdown",
   "metadata": {},
   "source": [
    "### 64B"
   ]
  },
  {
   "cell_type": "code",
   "execution_count": 12,
   "metadata": {},
   "outputs": [],
   "source": [
    "send('exp3c3',10000,64)"
   ]
  },
  {
   "cell_type": "code",
   "execution_count": 13,
   "metadata": {
    "scrolled": true
   },
   "outputs": [
    {
     "name": "stdout",
     "output_type": "stream",
     "text": [
      "Packets per second: 13888888\n",
      "Rate: 4206.824342737483 Mbits/sec\n"
     ]
    }
   ],
   "source": [
    "rate('3.3/exp3c3',64,10000)"
   ]
  },
  {
   "cell_type": "markdown",
   "metadata": {},
   "source": [
    "## Experiment d"
   ]
  },
  {
   "cell_type": "markdown",
   "metadata": {},
   "source": [
    "Send 10000 packets, size 512B, 100 Mbits/sec. What is the measured traffic rate?"
   ]
  },
  {
   "cell_type": "code",
   "execution_count": 14,
   "metadata": {},
   "outputs": [],
   "source": [
    "send('exp3d',10000,512,100)"
   ]
  },
  {
   "cell_type": "code",
   "execution_count": 15,
   "metadata": {
    "scrolled": true
   },
   "outputs": [
    {
     "name": "stdout",
     "output_type": "stream",
     "text": [
      "Packets per second: 2314814\n",
      "Rate: 103.96693001091111 Mbits/sec\n"
     ]
    }
   ],
   "source": [
    "rate('3.3/exp3d',512,10000)"
   ]
  },
  {
   "cell_type": "markdown",
   "metadata": {},
   "source": [
    "## Experiment e"
   ]
  },
  {
   "cell_type": "markdown",
   "metadata": {},
   "source": [
    "What is the distribution of inter-arrival time of experiment d?"
   ]
  },
  {
   "cell_type": "markdown",
   "metadata": {},
   "source": [
    "Plot the CDF of inter-arrival time."
   ]
  },
  {
   "cell_type": "code",
   "execution_count": 16,
   "metadata": {
    "scrolled": true
   },
   "outputs": [
    {
     "data": {
      "image/png": "[encoded data removed]",
      "text/plain": [
       "<Figure size 432x288 with 1 Axes>"
      ]
     },
     "metadata": {
      "needs_background": "light"
     },
     "output_type": "display_data"
    }
   ],
   "source": [
    "deltas = getdeltas('3.3/exp3d', crsid,10000)\n",
    "values, base = np.histogram(deltas, bins=100)\n",
    "cumulative = np.cumsum(values/9999.0)\n",
    "plt.plot(base[:-1], cumulative)\n",
    "plt.ylabel(\"Cumulative probability\")\n",
    "plt.xlabel(\"Inter-arrival time (us)\")\n",
    "plt.show()"
   ]
  },
  {
   "cell_type": "markdown",
   "metadata": {},
   "source": [
    "## Experiment f"
   ]
  },
  {
   "cell_type": "markdown",
   "metadata": {},
   "source": [
    "Send 10000 packets, size 512B, intl0 (B) to dag0 (A), intl1  (B) to slf0  (B), 100 Mbits/sec. What is the distribution of inter-arrival time?"
   ]
  },
  {
   "cell_type": "code",
   "execution_count": 17,
   "metadata": {},
   "outputs": [],
   "source": [
    "send('exp3f',10000,512,100,2)"
   ]
  },
  {
   "cell_type": "markdown",
   "metadata": {},
   "source": [
    "Plot the CDF of inter-arrival time."
   ]
  },
  {
   "cell_type": "code",
   "execution_count": 18,
   "metadata": {},
   "outputs": [
    {
     "data": {
      "image/png": "[encoded data removed]",
      "text/plain": [
       "<Figure size 432x288 with 1 Axes>"
      ]
     },
     "metadata": {
      "needs_background": "light"
     },
     "output_type": "display_data"
    }
   ],
   "source": [
    "deltas = getdeltas('3.3/exp3f',crsid, 10000)\n",
    "values, base = np.histogram(deltas, bins=100)\n",
    "cumulative = np.cumsum(values/9999.0)\n",
    "plt.plot(base[:-1], cumulative)\n",
    "plt.ylabel(\"Cumulative probability\")\n",
    "plt.xlabel(\"Inter-arrival time (us)\")\n",
    "plt.show()"
   ]
  },
  {
   "cell_type": "code",
   "execution_count": null,
   "metadata": {},
   "outputs": [],
   "source": []
  }
 ],
 "metadata": {
  "kernelspec": {
   "display_name": "Python 2",
   "language": "python",
   "name": "python2"
  },
  "language_info": {
   "codemirror_mode": {
    "name": "ipython",
    "version": 2
   },
   "file_extension": ".py",
   "mimetype": "text/x-python",
   "name": "python",
   "nbconvert_exporter": "python",
   "pygments_lexer": "ipython2",
   "version": "2.7.12"
  }
 },
 "nbformat": 4,
 "nbformat_minor": 2
}
